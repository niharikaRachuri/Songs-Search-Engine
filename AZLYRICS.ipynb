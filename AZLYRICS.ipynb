{
 "cells": [
  {
   "cell_type": "code",
   "execution_count": 6,
   "metadata": {
    "collapsed": true
   },
   "outputs": [],
   "source": [
    "import urllib.request\n",
    "import os,sys\n",
    "from bs4 import BeautifulSoup\n",
    "import requests,time\n",
    "from random import randint\n",
    "from os import listdir\n",
    "from os.path import isfile, join\n",
    "from collections import defaultdict"
   ]
  },
  {
   "cell_type": "code",
   "execution_count": null,
   "metadata": {
    "collapsed": true
   },
   "outputs": [],
   "source": [
    "lettere=[\"a\",\"b\",\"c\",\"d\",\"e\",\"f\",\"g\",\"h\",\"i\",\"j\",\"k\",\"l\",\"m\",\"n\",\"o\",\"p\",\"q\",\"r\",\"s\",\"t\",\"u\",\"v\",\"w\",\"x\",\"y\",\"z\",\"#\"]"
   ]
  },
  {
   "cell_type": "code",
   "execution_count": null,
   "metadata": {
    "collapsed": true
   },
   "outputs": [],
   "source": [
    "path = \"Desktop/AZLYRICS\"\n",
    "os.mkdir( path, 755 )\n",
    "\n",
    "for i in lettere:\n",
    "    H = '.html'\n",
    "    url = 'https://www.azlyrics.com/'\n",
    "    \n",
    "\n",
    "    headers={\"User-Agent\": \"Mozilla/5.0 (Windows NT 6.3; Win64; x64) AppleWebKit/537.36 (KHTML, like Gecko) Chrome/37.0.2049.0 Safari/537.36\"}\n",
    "\n",
    "    \n",
    "    time.sleep(randint(0,4))\n",
    "    response = requests.get(url+i+H, headers=headers)\n",
    "    soup=BeautifulSoup(response.text, \"lxml\")\n",
    "    artist = []\n",
    "    for link in soup.find_all('a'):\n",
    "        pageLink = link.get('href')\n",
    "        if pageLink.startswith(i):         \n",
    "            time.sleep(randint(0,4))\n",
    "            response1 = requests.get(url+pageLink, headers=headers)\n",
    "            soup1 = BeautifulSoup(response1.text, \"lxml\")\n",
    "            for link1 in soup1.find_all('a'):\n",
    "                pageLink1 = str(link1.get('href'))\n",
    "                if pageLink1.startswith('../lyrics/'):          \n",
    "                    song = link1.text\n",
    "                    f_url = url + pageLink1[3:]\n",
    "                    response2 = requests.get(f_url, headers=headers)\n",
    "                    webContent = response2.text\n",
    "                    soup2 = BeautifulSoup(webContent, 'lxml')\n",
    "\n",
    "                    f = open(path + '/' + song +'.html', 'w', encoding = 'utf8')\n",
    "                    f.write(str(f_url + ' ') + str(soup2))\n",
    "                    f.close()"
   ]
  },
  {
   "cell_type": "code",
   "execution_count": 3,
   "metadata": {
    "collapsed": true
   },
   "outputs": [],
   "source": [
    "path = 'Desktop/AZLYRICS'\n",
    "files = [f for f in listdir(path) if isfile(join(path, f))]"
   ]
  },
  {
   "cell_type": "code",
   "execution_count": 4,
   "metadata": {},
   "outputs": [
    {
     "data": {
      "text/plain": [
       "['Fallen From Grace.html', 'Forever In Love.html', \"Funkin' Up.html\"]"
      ]
     },
     "execution_count": 4,
     "metadata": {},
     "output_type": "execute_result"
    }
   ],
   "source": [
    "files"
   ]
  },
  {
   "cell_type": "code",
   "execution_count": 12,
   "metadata": {
    "collapsed": true
   },
   "outputs": [],
   "source": [
    "complete_dictionary=defaultdict(list)\n",
    "for i in files:\n",
    "    f = open(path + '/' + i, 'r')#, encoding = 'utf8')\n",
    "    r = f.read()\n",
    "    U = r.find(' ')\n",
    "    url = r[:U]\n",
    "    soup = BeautifulSoup(r, 'lxml')\n",
    "    info = soup.findAll(\"b\")\n",
    "    T = str(info[1])[4:-5]\n",
    "    A = str(info[0])[3:-11]\n",
    "    lyric = soup.findAll(lambda tag:tag.name == \"div\" and len(tag.attrs) == 0)\n",
    "    Lyric = BeautifulSoup(str(lyric[0]), 'lxml')\n",
    "    l = str(Lyric.text)\n",
    "    l = BeautifulSoup(l, 'lxml')\n",
    "    L = l.text\n",
    "    p = L.replace('\\r\\n', ' ')\n",
    "    testo = p.replace('\\n', ' ')\n",
    "    J = testo.replace('Ã¢Â€Â™', \"'\")\n",
    "    complete_dictionary[A,T].append([url, A, T, J])\n",
    "    \n",
    "#     print(url)\n",
    "#     print(A + ' - ' + T)\n",
    "#     print(testo)"
   ]
  },
  {
   "cell_type": "code",
   "execution_count": 13,
   "metadata": {},
   "outputs": [
    {
     "data": {
      "text/plain": [
       "defaultdict(list,\n",
       "            {('A1',\n",
       "              'Fallen From Grace'): [['https://www.azlyrics.com/lyrics/a1/fallenfromgrace.html',\n",
       "               'A1',\n",
       "               'Fallen From Grace',\n",
       "               \"Is Anybody there? I come up for air Feels like I'm drowning Does anybody care? It makes no sense at all Such a long way to fall. I knew it was coming I could feel it in the air  Feels like I'm falling It's time but your stalling You said all you need is a little time and some space These words that you've spoken Have left me so broken Seems at this moment that I've fallen from grace  Is anyone around? My head hits the ground I feel like I'm no one I'm lost in the crowd It makes no sense at all So divided we fall I'm breaking my silence But you don't hear me call And you don't see me fall  Feels like I'm falling It's time but your stalling You said all you need is a little time and some space These words that you've spoken Have left me so broken Seems at this moment that I've fallen from grace  And everyday just feels the same I try so hard to walk away from everything I am Just closing in on me I just can't face the pain I sit around and wonder why? So many dreams can fade and die Well nothing is forever everything is never And I can't say goodbye  Feels like I'm falling It's time but your stalling You said all you need is a little time and some space These words that you've spoken Have left me so broken Seems at this moment that I've fallen from grace \"]],\n",
       "             ('A1',\n",
       "              'Forever In Love'): [['https://www.azlyrics.com/lyrics/a1/foreverinlove.html',\n",
       "               'A1',\n",
       "               'Forever In Love',\n",
       "               \"Love leads to laughter  Love leads to pain  With you by my side  I feel good times again   Never have I felt these feelings before  You showed me the world  How could I ask for more   And although there's confusion  We'll find a solution to keep my heart close to you   And I know, yes I know  If you hold me, believe me  I'll never, never ever leave   And I know  There is nothing that I would not do for you  Forever be true  And I know  Although times can be hard  We will see it through  I'm forever in love with you   Show me affection  In all different ways  Give you my heart  For the rest of my days   With you all my troubles are left far behind   Like heaven on earth  When I look in your eyes   And although there's confusion  We'll find a solution  To keep my heart close to you   And I know, yes I know  If you hold me, believe me  I'll never, never ever leave   And I know  There is nothing that I would not do for you  Forever be true  And I know  Although times can be hard  We will see it through  I'm forever in love with you   No need to cry  I'll be right by your side  (Right by your side)   Let's take our time  Love won't run dry  If you hold me, believe me  I'll never, never ever leave   And I know  There is nothing that I would not do for you  Forever be true  And I know  Although times can be hard  We will see it through  I'm forever in love  And I know  There is nothing that I would not do for you   Forever be true  And I know   Oh I know  Although times can be hard  We will see it through  I'm forever in love with you \"]],\n",
       "             ('A1',\n",
       "              \"Funkin' Up\"): [['https://www.azlyrics.com/lyrics/a1/funkinup.html',\n",
       "               'A1',\n",
       "               \"Funkin' Up\",\n",
       "               \"Put it on to me I can hear you baby 'Cause we've been Here once before I can feel the heat Don't you feel it baby? And it makes me Want you more  Didn't you tell me yesterday We gotta take it all the way  We're funkin' up And I like it Now you're getting hot Give it all you've got We're funkin' it up And I like it Now you're burnin' up Never gonna stop 'Cause I like it, ooh, Don't you know I like it, ooh  And now You're close to me We got to move together And I've never Felt so sure  Your sexuality, I'm in a love hangover The rhythm of your body Is the only cure  Carried away Like butterflies Feeling the music Takes you high Baby, You know we're  We're funkin' up And I like it Now you're getting hot Give it all you've got We're funkin' it up And I like it Now you're burnin' up Never gonna stop  We're funkin' up And I like it Now you're getting hot Give it all you've got We're funkin' it up And I like it Now you're burnin' up Never gonna stop  'Cause I like it, ooh, Don't you know I like it, ooh I like it, ooh, Don't you know I like it, I like it  Go for the stars And feel the sky We gotta do That everytime  We're funkin' up And I like it Now you're getting hot Give it all you've got We're funkin' it up And I like it Now you're burnin' up Never gonna stop [Repeat to fade] \"]]})"
      ]
     },
     "execution_count": 13,
     "metadata": {},
     "output_type": "execute_result"
    }
   ],
   "source": [
    "complete_dictionary"
   ]
  }
 ],
 "metadata": {
  "kernelspec": {
   "display_name": "Python 3",
   "language": "python",
   "name": "python3"
  },
  "language_info": {
   "codemirror_mode": {
    "name": "ipython",
    "version": 3
   },
   "file_extension": ".py",
   "mimetype": "text/x-python",
   "name": "python",
   "nbconvert_exporter": "python",
   "pygments_lexer": "ipython3",
   "version": "3.6.1"
  }
 },
 "nbformat": 4,
 "nbformat_minor": 2
}
