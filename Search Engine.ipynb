{
 "cells": [
  {
   "cell_type": "code",
   "execution_count": 1,
   "metadata": {
    "collapsed": true
   },
   "outputs": [],
   "source": [
    "from bs4 import BeautifulSoup\n",
    "from collections import defaultdict\n",
    "from collections import Counter\n",
    "import matplotlib.pyplot as plt\n",
    "import nltk\n",
    "from nltk.corpus import stopwords\n",
    "from operator import itemgetter\n",
    "import pandas as pd\n",
    "from os import listdir\n",
    "from os.path import isfile, join\n",
    "import numpy\n",
    "import re\n",
    "import requests\n",
    "import statistics\n",
    "import string\n",
    "import json\n"
   ]
  },
  {
   "cell_type": "code",
   "execution_count": 2,
   "metadata": {
    "collapsed": true
   },
   "outputs": [],
   "source": [
    "dataset=numpy.load(\"backup.npy\")"
   ]
  },
  {
   "cell_type": "code",
   "execution_count": 3,
   "metadata": {
    "collapsed": true
   },
   "outputs": [],
   "source": [
    "from nltk.corpus import stopwords\n",
    "cachedStopWords = (stopwords.words(\"english\"))"
   ]
  },
  {
   "cell_type": "code",
   "execution_count": 4,
   "metadata": {
    "collapsed": true
   },
   "outputs": [],
   "source": [
    "from nltk.stem.lancaster import LancasterStemmer"
   ]
  },
  {
   "cell_type": "code",
   "execution_count": 5,
   "metadata": {
    "collapsed": true
   },
   "outputs": [],
   "source": [
    "st = LancasterStemmer()"
   ]
  },
  {
   "cell_type": "code",
   "execution_count": 6,
   "metadata": {
    "collapsed": true
   },
   "outputs": [],
   "source": [
    "dataset=list(dataset)"
   ]
  },
  {
   "cell_type": "code",
   "execution_count": 7,
   "metadata": {
    "collapsed": true
   },
   "outputs": [],
   "source": [
    "ridotto=(dataset[0:10])"
   ]
  },
  {
   "cell_type": "code",
   "execution_count": 8,
   "metadata": {
    "collapsed": true
   },
   "outputs": [],
   "source": [
    "# take a list of song list\n",
    "song_list=[]\n",
    "for ab in ridotto:\n",
    "    so=[]\n",
    "    so.append(ab[\"lyrics\"])\n",
    "    song_list.append(so)"
   ]
  },
  {
   "cell_type": "code",
   "execution_count": 9,
   "metadata": {
    "collapsed": true
   },
   "outputs": [],
   "source": [
    "# take id value\n",
    "prova=[]\n",
    "for i in ridotto:\n",
    "    prima=[]\n",
    "    for k in (i['_id'].values()):\n",
    "        prima.append(k)\n",
    "    prova.append(prima)"
   ]
  },
  {
   "cell_type": "code",
   "execution_count": 10,
   "metadata": {
    "collapsed": true
   },
   "outputs": [],
   "source": [
    "# remove stopwords and punctuation\n",
    "vuota=[]\n",
    "for i in song_list:\n",
    "    for line in i:\n",
    "        prima=[]\n",
    "        text=' '.join([word for word in line.lower().translate(str.maketrans('', '', string.punctuation)).split()\n",
    "                      if len(word) >=2 and word not in cachedStopWords])\n",
    "        prima.append(text)\n",
    "        vuota.append(prima)"
   ]
  },
  {
   "cell_type": "code",
   "execution_count": 11,
   "metadata": {
    "collapsed": true
   },
   "outputs": [],
   "source": [
    "# find stem\n",
    "vuotaa=[]\n",
    "for i in vuota:\n",
    "    documents = [[st.stem(word) for word in sentence.split(\" \")] for sentence in i]\n",
    "    vuotaa.append(documents)"
   ]
  },
  {
   "cell_type": "code",
   "execution_count": 12,
   "metadata": {
    "collapsed": true
   },
   "outputs": [],
   "source": [
    "#create new dictionaries with id and stemmed list of song\n",
    "dizionario=[]\n",
    "for i,j in zip(prova,vuotaa):\n",
    "    riprova=dict(zip(i,j))\n",
    "    dizionario.append(riprova)"
   ]
  },
  {
   "cell_type": "code",
   "execution_count": 13,
   "metadata": {
    "collapsed": true
   },
   "outputs": [],
   "source": [
    "frequenze=[]\n",
    "for i in vuotaa:\n",
    "    for j in i:\n",
    "        common=Counter(j)\n",
    "        frequenze.append(common)"
   ]
  },
  {
   "cell_type": "code",
   "execution_count": 14,
   "metadata": {
    "collapsed": true
   },
   "outputs": [],
   "source": [
    "for i in frequenze:\n",
    "    factor=1.0/sum(i.values())\n",
    "    for k in i:\n",
    "        i[k] = i[k]*factor"
   ]
  },
  {
   "cell_type": "code",
   "execution_count": 15,
   "metadata": {
    "collapsed": true
   },
   "outputs": [],
   "source": [
    "ook=[]\n",
    "for i in frequenze:\n",
    "    ok=[]\n",
    "    a=dict(i)\n",
    "    ok.append(a)\n",
    "    ook.append(ok)"
   ]
  },
  {
   "cell_type": "code",
   "execution_count": 16,
   "metadata": {
    "collapsed": true
   },
   "outputs": [],
   "source": [
    "#create new dictionaries with id and stemmed list of song normalized\n",
    "dizionario=[]\n",
    "for i,j in zip(prova,ook):\n",
    "    riprova=dict(zip(i,j))\n",
    "    dizionario.append(riprova)"
   ]
  },
  {
   "cell_type": "code",
   "execution_count": 17,
   "metadata": {
    "collapsed": true
   },
   "outputs": [],
   "source": [
    "#find all words used\n",
    "parole=[]\n",
    "for i in dizionario:\n",
    "    for j in i.values():\n",
    "        for k in j:\n",
    "            parole.append(k)"
   ]
  },
  {
   "cell_type": "code",
   "execution_count": 18,
   "metadata": {
    "collapsed": true
   },
   "outputs": [],
   "source": [
    "#delete duplicate\n",
    "parole = list(set(parole))"
   ]
  },
  {
   "cell_type": "code",
   "execution_count": 19,
   "metadata": {
    "collapsed": true
   },
   "outputs": [],
   "source": [
    "#just for test\n",
    "parole_ridotto=['im', 'burn']"
   ]
  },
  {
   "cell_type": "code",
   "execution_count": 20,
   "metadata": {
    "collapsed": true
   },
   "outputs": [],
   "source": [
    "vocabulary=[]\n",
    "for i in parole_ridotto:\n",
    "    parole_cambiato= \"term_id: \" + i\n",
    "    vocabulary.append(parole_cambiato)"
   ]
  },
  {
   "cell_type": "code",
   "execution_count": 21,
   "metadata": {},
   "outputs": [
    {
     "data": {
      "text/plain": [
       "['term_id: im', 'term_id: burn']"
      ]
     },
     "execution_count": 21,
     "metadata": {},
     "output_type": "execute_result"
    }
   ],
   "source": [
    "vocabulary"
   ]
  },
  {
   "cell_type": "code",
   "execution_count": 70,
   "metadata": {},
   "outputs": [],
   "source": [
    "vocabulary={}\n",
    "for i in parole_ridotto:\n",
    "    vocabulary[\"term_id\"]=i"
   ]
  },
  {
   "cell_type": "code",
   "execution_count": 71,
   "metadata": {},
   "outputs": [
    {
     "data": {
      "text/plain": [
       "{'term_id': 'burn'}"
      ]
     },
     "execution_count": 71,
     "metadata": {},
     "output_type": "execute_result"
    }
   ],
   "source": [
    "(vocabulary)"
   ]
  },
  {
   "cell_type": "code",
   "execution_count": 100,
   "metadata": {},
   "outputs": [],
   "source": [
    "vocabulary=defaultdict(list)\n",
    "for j in range(100):\n",
    "    for i in parole_ridotto:\n",
    "    \n",
    "        vocabulary[j].append(i)\n",
    "    "
   ]
  },
  {
   "cell_type": "code",
   "execution_count": 101,
   "metadata": {},
   "outputs": [],
   "source": [
    "vocabulary=dict(vocabulary)"
   ]
  },
  {
   "cell_type": "code",
   "execution_count": null,
   "metadata": {},
   "outputs": [],
   "source": []
  },
  {
   "cell_type": "code",
   "execution_count": 83,
   "metadata": {},
   "outputs": [
    {
     "ename": "AttributeError",
     "evalue": "'str' object has no attribute 'values'",
     "output_type": "error",
     "traceback": [
      "\u001b[1;31m---------------------------------------------------------------------------\u001b[0m",
      "\u001b[1;31mAttributeError\u001b[0m                            Traceback (most recent call last)",
      "\u001b[1;32m<ipython-input-83-ac4dbcc34fd0>\u001b[0m in \u001b[0;36m<module>\u001b[1;34m()\u001b[0m\n\u001b[0;32m      1\u001b[0m \u001b[1;32mfor\u001b[0m \u001b[0mi\u001b[0m \u001b[1;32min\u001b[0m \u001b[0mvocabulary\u001b[0m\u001b[1;33m:\u001b[0m\u001b[1;33m\u001b[0m\u001b[0m\n\u001b[1;32m----> 2\u001b[1;33m     \u001b[0mprint\u001b[0m\u001b[1;33m(\u001b[0m\u001b[0mi\u001b[0m\u001b[1;33m.\u001b[0m\u001b[0mvalues\u001b[0m\u001b[1;33m(\u001b[0m\u001b[1;33m)\u001b[0m\u001b[1;33m)\u001b[0m\u001b[1;33m\u001b[0m\u001b[0m\n\u001b[0m",
      "\u001b[1;31mAttributeError\u001b[0m: 'str' object has no attribute 'values'"
     ]
    }
   ],
   "source": [
    "for i in vocabulary:\n",
    "    print(i.values())"
   ]
  },
  {
   "cell_type": "code",
   "execution_count": 90,
   "metadata": {},
   "outputs": [
    {
     "data": {
      "text/plain": [
       "False"
      ]
     },
     "execution_count": 90,
     "metadata": {},
     "output_type": "execute_result"
    }
   ],
   "source": [
    "any (\"im\") in vocabulary.values()"
   ]
  },
  {
   "cell_type": "code",
   "execution_count": null,
   "metadata": {
    "collapsed": true
   },
   "outputs": [],
   "source": []
  },
  {
   "cell_type": "code",
   "execution_count": null,
   "metadata": {
    "collapsed": true
   },
   "outputs": [],
   "source": []
  },
  {
   "cell_type": "code",
   "execution_count": null,
   "metadata": {
    "collapsed": true
   },
   "outputs": [],
   "source": []
  },
  {
   "cell_type": "code",
   "execution_count": 22,
   "metadata": {
    "collapsed": true
   },
   "outputs": [],
   "source": [
    "caricare=[]\n",
    "for words in parole_ridotto:\n",
    "    for i in dizionario:\n",
    "        for j in i.values():\n",
    "            \n",
    "            if words in j:\n",
    "                nuovo_dizionario=defaultdict(list)\n",
    "                nuovo_dizionario[words].append((*i.keys(),(words,j[words])))\n",
    "                caricare.append(dict(nuovo_dizionario))"
   ]
  },
  {
   "cell_type": "code",
   "execution_count": 23,
   "metadata": {
    "collapsed": true
   },
   "outputs": [],
   "source": [
    "output = {}\n",
    "for d in caricare:\n",
    "    for k,v in d.items():\n",
    "        output.setdefault(k, []).append(v)\n",
    "output=[{k:v} for k,v in output.items()]"
   ]
  },
  {
   "cell_type": "code",
   "execution_count": 24,
   "metadata": {},
   "outputs": [
    {
     "data": {
      "text/plain": [
       "[{'im': [[('5a1954dabd966f6888db3c79', ('im', 0.06451612903225806))],\n",
       "   [('5a1954dabd966f6888db3c7d', ('im', 0.058823529411764705))],\n",
       "   [('5a1954dabd966f6888db3ca3', ('im', 0.0625))],\n",
       "   [('5a1954dabd966f6888db3ca4', ('im', 0.04672897196261682))],\n",
       "   [('5a1954dabd966f6888db3ca5', ('im', 0.1509433962264151))],\n",
       "   [('5a1954dabd966f6888db3ca6', ('im', 0.09836065573770492))],\n",
       "   [('5a1954dabd966f6888db3b3c', ('im', 0.08012326656394453))],\n",
       "   [('5a1954dabd966f6888db3b7d', ('im', 0.030303030303030304))]]},\n",
       " {'burn': [[('5a1954dabd966f6888db3c79', ('burn', 0.03225806451612903))]]}]"
      ]
     },
     "execution_count": 24,
     "metadata": {},
     "output_type": "execute_result"
    }
   ],
   "source": [
    "output"
   ]
  },
  {
   "cell_type": "markdown",
   "metadata": {},
   "source": []
  },
  {
   "cell_type": "code",
   "execution_count": 190,
   "metadata": {
    "collapsed": true
   },
   "outputs": [],
   "source": [
    "params = {'apiKey': 'jJFk7bsNFjagIf9nvxRQzq4AhVot1kkK'}\n",
    "dbname = 'prova' #my db name in mlab\n",
    "collection = 'terza_parte' #new collection created in mlab"
   ]
  },
  {
   "cell_type": "code",
   "execution_count": 191,
   "metadata": {
    "collapsed": true
   },
   "outputs": [],
   "source": [
    "url = 'https://api.mlab.com/api/1/databases/' + dbname + '/collections/' + collection\n",
    "headers = {'content-type': 'application/json'}\n",
    "data = json.dumps(output)\n",
    "response = requests.post(url, data=data, params=params, headers=headers)"
   ]
  },
  {
   "cell_type": "markdown",
   "metadata": {
    "collapsed": true
   },
   "source": []
  },
  {
   "cell_type": "code",
   "execution_count": null,
   "metadata": {
    "collapsed": true
   },
   "outputs": [],
   "source": []
  },
  {
   "cell_type": "code",
   "execution_count": null,
   "metadata": {
    "collapsed": true
   },
   "outputs": [],
   "source": []
  },
  {
   "cell_type": "code",
   "execution_count": null,
   "metadata": {
    "collapsed": true
   },
   "outputs": [],
   "source": []
  },
  {
   "cell_type": "code",
   "execution_count": null,
   "metadata": {
    "collapsed": true
   },
   "outputs": [],
   "source": []
  },
  {
   "cell_type": "code",
   "execution_count": null,
   "metadata": {
    "collapsed": true
   },
   "outputs": [],
   "source": []
  },
  {
   "cell_type": "code",
   "execution_count": null,
   "metadata": {
    "collapsed": true
   },
   "outputs": [],
   "source": []
  }
 ],
 "metadata": {
  "kernelspec": {
   "display_name": "Python 3",
   "language": "python",
   "name": "python3"
  },
  "language_info": {
   "codemirror_mode": {
    "name": "ipython",
    "version": 3
   },
   "file_extension": ".py",
   "mimetype": "text/x-python",
   "name": "python",
   "nbconvert_exporter": "python",
   "pygments_lexer": "ipython3",
   "version": "3.6.1"
  }
 },
 "nbformat": 4,
 "nbformat_minor": 2
}
