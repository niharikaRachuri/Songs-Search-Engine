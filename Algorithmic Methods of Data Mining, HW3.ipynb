{
 "cells": [
  {
   "cell_type": "markdown",
   "metadata": {},
   "source": [
    "# Algorithmic Methods of Data Mining"
   ]
  },
  {
   "cell_type": "markdown",
   "metadata": {},
   "source": [
    "## Homework 3\n",
    "### Andrea Aiello, Daniele Mocavini, Mani Niharika Rachuri"
   ]
  },
  {
   "cell_type": "code",
   "execution_count": 1,
   "metadata": {
    "collapsed": true
   },
   "outputs": [],
   "source": [
    "from bs4 import BeautifulSoup\n",
    "from collections import defaultdict\n",
    "from collections import Counter\n",
    "from collections import deque\n",
    "import copy\n",
    "from cmath import log\n",
    "from heapq import nlargest\n",
    "import matplotlib.pyplot as plt\n",
    "import nltk\n",
    "from nltk.corpus import stopwords\n",
    "from nltk.stem.lancaster import LancasterStemmer\n",
    "from operator import itemgetter\n",
    "import pandas as pd\n",
    "from os import listdir\n",
    "from os.path import isfile, join\n",
    "import numpy\n",
    "from numpy import linalg as LA\n",
    "import re\n",
    "import requests\n",
    "import statistics\n",
    "import string\n",
    "from sklearn.cluster import KMeans\n",
    "import json\n",
    "import time\n",
    "from wordcloud import WordCloud\n",
    "\n",
    "\n"
   ]
  },
  {
   "cell_type": "markdown",
   "metadata": {},
   "source": [
    "## Data Collection"
   ]
  },
  {
   "cell_type": "code",
   "execution_count": 2,
   "metadata": {
    "collapsed": true
   },
   "outputs": [],
   "source": [
    "# First identify and save the folder where we have stored all the html files\n",
    "\n",
    "mypath = \"C:/Users/danie/OneDrive/Università/Data Science/Algorithmics (Aris-Yoannis)/Homeworks/Homework 3/aris database/lyrics_collection/\"\n",
    "onlyfiles = [f for f in listdir(mypath) if isfile(join(mypath, f))]"
   ]
  },
  {
   "cell_type": "code",
   "execution_count": 3,
   "metadata": {
    "collapsed": true
   },
   "outputs": [],
   "source": [
    "# Now we can parse the pages and take for each all the information we need, like artist, title, url and the song \n",
    "\n",
    "complete_dictionary=defaultdict(list)\n",
    "stringa=\"https://www.azlyrics.com/\"\n",
    "for i in onlyfiles:\n",
    "    file = open(\"C:/Users/danie/OneDrive/Università/Data Science/Algorithmics (Aris-Yoannis)/Homeworks/Homework 3/aris database/lyrics_collection/\"+ i, \"r\",encoding=\"utf8\")\n",
    "    soup = BeautifulSoup(file, 'lxml')\n",
    "    \n",
    "    artist = soup.findAll(\"span\",{ \"class\" : \"item-header-color\" })\n",
    "    \n",
    "    title = soup.findAll(\"h1\")\n",
    "    lyric = soup.findAll(\"div\", { \"class\" : \"dn\" })\n",
    "    \n",
    "    try:\n",
    "        l = str(lyric[0]).replace('<br/>', ' ')\n",
    "        l=l.replace(\"\\\", '')\n",
    "        l=l.replace(\"\\'\", '')\n",
    "        testo = str(l[31:-6])\n",
    "        t = str(title[0])\n",
    "        T = t[4:-12]\n",
    "        a = str(artist[2])\n",
    "        A = a[32:-14]\n",
    "        url=stringa+\"lyrics/\"+A.replace(\" \",\"\").lower()+\"/\"+T.replace(\" \",\"\").lower()+\".html\"\n",
    "        \n",
    "        complete_dictionary[A,T].append([url, A, T, testo])\n",
    "        \n",
    "            \n",
    "    except:\n",
    "        pass\n"
   ]
  },
  {
   "cell_type": "code",
   "execution_count": 4,
   "metadata": {
    "collapsed": true
   },
   "outputs": [],
   "source": [
    "# In order to remove the internet problem, we have also make  a local copy of the dictionary created;\n",
    "# we choce to use numpy for his speed\n",
    "\n",
    "numpy.save(\"dizionario completo\", complete_dictionary)"
   ]
  },
  {
   "cell_type": "code",
   "execution_count": 3,
   "metadata": {
    "collapsed": true
   },
   "outputs": [],
   "source": [
    "# If needed we can load the file with this command\n",
    "\n",
    "complete_dictionary=dict(numpy.load(\"dizionario completo.npy\").item())"
   ]
  },
  {
   "cell_type": "code",
   "execution_count": 15,
   "metadata": {
    "collapsed": true
   },
   "outputs": [],
   "source": [
    "# Create dict_of_songs, this will contein a list of dictionaries \n",
    "\n",
    "dict_of_songs = []\n",
    "for [x,y] in complete_dictionary.keys():\n",
    "    \n",
    "    a = complete_dictionary[x,y]\n",
    "    x=[]\n",
    "    x.append(a[0][0]) #url\n",
    "    x.append(a[0][1]) #artist\n",
    "    x.append(a[0][2]) #song name\n",
    "    x.append(a[0][3]) #lyrics\n",
    "    tempdict = {\"url\": x[0],\n",
    "                \"artist\": x[1],\n",
    "                \"song-name\": x[2],\n",
    "                \"lyrics\": x[3]\n",
    "            }\n",
    "    dict_of_songs.append(tempdict)"
   ]
  },
  {
   "cell_type": "code",
   "execution_count": 18,
   "metadata": {
    "collapsed": true
   },
   "outputs": [],
   "source": [
    "# Store the parsed songs as documents in MongoDB database, one document per song,\n",
    "# using MongoDB Hosting: Database-as-a-Service by mLab\n",
    "# To reduce the problems of the internet and speed up site response time, we decided to upload the files to several groups\n",
    "# It's necessary use time sleep of 3 second for a correct count on mlab and for skip \" quota excedeed\" problem\n",
    "\n",
    "# We use 158.31 MB of mlab's space\n",
    "\n",
    "params = {'apiKey': 'jJFk7bsNFjagIf9nvxRQzq4AhVot1kkK'}\n",
    "dbname = 'prova'\n",
    "collection = 'Algorithmic_Methods_of_Data_Mining_Hw3'"
   ]
  },
  {
   "cell_type": "code",
   "execution_count": null,
   "metadata": {
    "collapsed": true
   },
   "outputs": [],
   "source": [
    "for i in range(0,len(dict_of_songs),10000):\n",
    "    url = 'https://api.mlab.com/api/1/databases/' + dbname + '/collections/' + collection\n",
    "    headers = {'content-type': 'application/json'}\n",
    "    data = json.dumps(dict_of_songs[i:i+10000])\n",
    "    response = requests.post(url, data=data, params=params, headers=headers)\n",
    "    time.sleep(3)"
   ]
  },
  {
   "cell_type": "code",
   "execution_count": 31,
   "metadata": {
    "collapsed": true
   },
   "outputs": [],
   "source": [
    "# Get back documents\n",
    "# l=<limit> - specify the limit for the number of results (default is 1000)\n",
    "\n",
    "l='l=900000'\n",
    "url = 'https://api.mlab.com/api/1/databases/' + dbname + '/collections/' + collection +'?'+ l +'&apiKey=jJFk7bsNFjagIf9nvxRQzq4AhVot1kkK&q'\n",
    "query= url\n",
    "response=requests.get(query)\n",
    "data=(response.text)\n",
    "dataset = json.loads(data)"
   ]
  },
  {
   "cell_type": "code",
   "execution_count": 9,
   "metadata": {
    "collapsed": true
   },
   "outputs": [],
   "source": [
    "# Create a list with the Artist Name\n",
    "\n",
    "artists_name=[]\n",
    "for aa in dataset:\n",
    "    artists_name.append(aa[\"artist\"])"
   ]
  },
  {
   "cell_type": "code",
   "execution_count": 7,
   "metadata": {
    "collapsed": true
   },
   "outputs": [],
   "source": [
    "# Create a list of list with song\n",
    "\n",
    "song_list=[]\n",
    "for ab in dataset:\n",
    "    so=[]\n",
    "    so.append(ab[\"lyrics\"])\n",
    "    song_list.append(so)"
   ]
  },
  {
   "cell_type": "code",
   "execution_count": 8,
   "metadata": {
    "collapsed": true
   },
   "outputs": [],
   "source": [
    "# Create a list with the songs-name\n",
    "\n",
    "song_name=[]\n",
    "for ac in dataset:\n",
    "    song_name.append(ac[\"song-name\"])"
   ]
  },
  {
   "cell_type": "markdown",
   "metadata": {},
   "source": [
    "# Song Statistics"
   ]
  },
  {
   "cell_type": "markdown",
   "metadata": {},
   "source": [
    "## Identify Artist with most songs and create a histogram of the number of songs per Artist\n"
   ]
  },
  {
   "cell_type": "code",
   "execution_count": 36,
   "metadata": {
    "collapsed": true
   },
   "outputs": [],
   "source": [
    "# Find the number of songs for each artist\n",
    "\n",
    "provaa=(Counter(artists_name))\n",
    "prova=dict(Counter(artists_name))\n",
    "listaditupl=[(v, k) for v, k in prova.items()]\n"
   ]
  },
  {
   "cell_type": "code",
   "execution_count": 37,
   "metadata": {},
   "outputs": [
    {
     "data": {
      "image/png": "[encoded data removed]",
      "text/plain": [
       "<matplotlib.figure.Figure at 0x28d33831c50>"
      ]
     },
     "metadata": {},
     "output_type": "display_data"
    }
   ],
   "source": [
    "# Print the histogram of the number of songs for artist\n",
    "\n",
    "df = pd.DataFrame(listaditupl, columns=['Artist Name', 'frequency'])\n",
    "frame1=df.plot(kind='bar', x='Artist Name')\n",
    "frame1.axes.get_xaxis().set_visible(False)\n",
    "plt.show()"
   ]
  },
  {
   "cell_type": "code",
   "execution_count": 38,
   "metadata": {
    "collapsed": true
   },
   "outputs": [],
   "source": [
    "# Find the mean\n",
    "\n",
    "media=statistics.mean([x[1] for x in listaditupl])"
   ]
  },
  {
   "cell_type": "code",
   "execution_count": 39,
   "metadata": {
    "collapsed": true
   },
   "outputs": [],
   "source": [
    "# Find the median\n",
    "\n",
    "mediana=statistics.median([x[1] for x in listaditupl])"
   ]
  },
  {
   "cell_type": "code",
   "execution_count": 42,
   "metadata": {},
   "outputs": [
    {
     "data": {
      "image/png": "[encoded data removed]",
      "text/plain": [
       "<matplotlib.figure.Figure at 0x28d33d7e518>"
      ]
     },
     "metadata": {},
     "output_type": "display_data"
    }
   ],
   "source": [
    "# We can also create an histogram ordered by number of songs written\n",
    "\n",
    "ordered_list=provaa.most_common()\n",
    "df = pd.DataFrame(ordered_list, columns=['Artist Name', 'frequency'])\n",
    "frame1=df.plot(kind='bar', x='Artist Name')\n",
    "frame1.axes.get_xaxis().set_visible(False)\n",
    "\n",
    "plt.annotate('Mean', xy=(0,media), xytext=(200, 200),\n",
    "            arrowprops=dict(facecolor='black', shrink=0.05),\n",
    "            )\n",
    "plt.annotate('Median', xy=(0,mediana), xytext=(500, 200),\n",
    "            arrowprops=dict(facecolor='orange', shrink=0.05),\n",
    "            )\n",
    "plt.show()"
   ]
  },
  {
   "cell_type": "code",
   "execution_count": 43,
   "metadata": {},
   "outputs": [
    {
     "data": {
      "image/png": "[encoded data removed]",
      "text/plain": [
       "<matplotlib.figure.Figure at 0x28d50a08ef0>"
      ]
     },
     "metadata": {},
     "output_type": "display_data"
    }
   ],
   "source": [
    "# Divide the list into this group and print the new plot\n",
    "\n",
    "more_200 = (\"More then 200\",sum(Counter([t[1] for t in ordered_list if t[1] > 200]).values()))\n",
    "equal200=(\"Equal 200\",sum(Counter([t[1] for t in ordered_list if t[1] == 200]).values()))\n",
    "a_150_to_200 = (\"From 150 to 200\",sum(Counter([t[1] for t in ordered_list if t[1] >= 100 and t[1] < 200 ]).values()))\n",
    "a_50_to_100 = (\"From 50 to 100\",sum(Counter([t[1] for t in ordered_list if t[1] >= 50 and t[1] < 100 ]).values()))\n",
    "a_25_to_50 = (\"From 25 to 50\",sum(Counter([t[1] for t in ordered_list if t[1] >= 25 and t[1] < 50 ]).values()))\n",
    "less_20 = (\"Less then 25\",sum(Counter([t[1] for t in ordered_list if t[1]  < 25]).values()))\n",
    "distribution=[more_200,equal200,a_150_to_200,a_50_to_100,a_25_to_50,less_20]\n",
    "df = pd.DataFrame(distribution, columns=['Distribution', 'frequency'])\n",
    "frame1=df.plot(kind='bar', x='Distribution')\n",
    "plt.show()"
   ]
  },
  {
   "cell_type": "code",
   "execution_count": 44,
   "metadata": {},
   "outputs": [
    {
     "data": {
      "image/png": "[encoded data removed]",
      "text/plain": [
       "<matplotlib.figure.Figure at 0x28d4effbeb8>"
      ]
     },
     "metadata": {},
     "output_type": "display_data"
    }
   ],
   "source": [
    "# Inside Less then 25 group we have the following situation\n",
    "\n",
    "a_15_to_25 = (\"From 15 to 20\",sum(Counter([t[1] for t in ordered_list if t[1] >= 15 and t[1] < 25]).values()))\n",
    "a_10_to_15 = (\"From 10 to 15\",sum(Counter([t[1] for t in ordered_list if t[1] >= 10 and t[1] < 15]).values()))\n",
    "a_5_to_10 = (\"From 5 to 10\",sum(Counter([t[1] for t in ordered_list if t[1] >= 5 and t[1] < 10]).values()))\n",
    "less_5 = (\"Less then 5\",sum(Counter([t[1] for t in ordered_list if t[1]  < 5]).values()))\n",
    "equal2=(\"Equal 2\",sum(Counter([t[1] for t in ordered_list if t[1] == 2]).values()))\n",
    "equal1=(\"Equal 1\",sum(Counter([t[1] for t in ordered_list if t[1] == 1]).values()))\n",
    "distribution=[a_15_to_25,a_10_to_15,a_5_to_10,less_5,equal1,equal2]\n",
    "df = pd.DataFrame(distribution, columns=['Distribution', 'frequency'])\n",
    "frame1=df.plot(kind='bar', x='Distribution')\n",
    "plt.show()"
   ]
  },
  {
   "cell_type": "code",
   "execution_count": 45,
   "metadata": {},
   "outputs": [
    {
     "name": "stdout",
     "output_type": "stream",
     "text": [
      "('David Bowie', 211)\n"
     ]
    }
   ],
   "source": [
    "# Find who wrote more songs\n",
    "\n",
    "print(ordered_list[0])"
   ]
  },
  {
   "cell_type": "code",
   "execution_count": 46,
   "metadata": {},
   "outputs": [
    {
     "name": "stdout",
     "output_type": "stream",
     "text": [
      "[('David Bowie', 211), ('Lil Wayne', 211), ('Eminem', 210), ('Various Artists', 209), ('Dolly Parton', 209), ('Frank Sinatra', 209), ('Elton John', 208), ('Chris Brown', 207), ('Snoop Dogg', 206), ('Rolling Stones', 206)]\n"
     ]
    }
   ],
   "source": [
    "# we can also find the top 10 artist who have written more songs\n",
    "\n",
    "print(ordered_list[0:10])"
   ]
  },
  {
   "cell_type": "code",
   "execution_count": 47,
   "metadata": {},
   "outputs": [
    {
     "name": "stdout",
     "output_type": "stream",
     "text": [
      "[('David Bowie', 211), ('Lil Wayne', 211), ('Eminem', 210), ('Various Artists', 209), ('Dolly Parton', 209), ('Frank Sinatra', 209), ('Elton John', 208), ('Chris Brown', 207), ('Snoop Dogg', 206), ('Rolling Stones', 206), ('Paul McCartney', 205), ('Wiz Khalifa', 205), ('Bob Dylan', 205), ('Bee Gees', 205), ('Elvis Presley', 205), ('Kanye West', 204), ('John Denver', 204), ('Celine Dion', 204), ('Mariah Carey', 204), ('Billie Holiday', 203), ('Bruce Springsteen', 203), ('Eric Clapton', 203), ('Neil Young', 203), ('Nat King Cole', 203), ('U2', 203)]\n"
     ]
    }
   ],
   "source": [
    "# And also the first 25\n",
    "\n",
    "print(ordered_list[0:25])"
   ]
  },
  {
   "cell_type": "markdown",
   "metadata": {},
   "source": [
    "Looking at the data we can first see the difference between mean (about 72) and median (45) so we can suppose to have some anomalous values.\n",
    "We have in fact that 501 Artist wrote less then 25 songs (of which 65 wrote just 1 song) ed just 37 wrote more then 200 songs, without these excesses we have that 191 artist wrote from 150 to 200 songs (262 artist if we include also the number 200 songs).\n",
    "\n",
    "In the top 10 most productive artist (excluding \"Various Artist\") we have just 1 band (Rolling Stones) and also looking at the first 25 we found just 2 other bad (U2 and Bee Gees), perhaps band's members have more frequently opposing views on songs and for this reason they write less or they melt.\n",
    "\n",
    "Interestingly also note how in the top 10 most productive artist (excluding \"Various Artist\") we have even 5 rapper.\n",
    "\n",
    "In the top 10 we also have 3 deceased artists (David Bowie, Frank Sinatra and Elvis Presley), searching for each the years active we have\n",
    "\n",
    "- Elvis Presley: 24 years\n",
    "- Bee Gees: 47 years\n",
    "- Bob Dylan: 58 years\n",
    "- Wiz Khalifa: 13 years\n",
    "- Paul McCartney: 60 years\n",
    "- Rolling stone: 55 years\n",
    "- Snoop Dogg: 25 years\n",
    "- Chris Brown: 12 years\n",
    "- Elton John: 53 years\n",
    "- Frank Sinatra: 63 years\n",
    "- Dolly Parton: 58 years\n",
    "- Eminem: 25 years\n",
    "- David Bowie: 54 years\n",
    "- Lil Wayne: 20 years\n",
    "\n",
    "\n",
    "\n",
    "So the new ranking based on the number of songs written and years of activity is\n",
    "\n",
    "- Chris Brown: 17.25\n",
    "- Wiz Khalifa: 15.76\n",
    "- Lil Wayne: 10.55\n",
    "- Elvis Presley: 8:54\n",
    "- Eminem: 8.40\n",
    "- Snoop Dogg: 8.24\n",
    "\n",
    "- Bee Gees: 4.36\n",
    "- Elton John: 3.92\n",
    "- David Bowie: 3.90\n",
    "- Rolling stone: 3.74\n",
    "- Dolly Parton: 3.60\n",
    "- Bob Dylan: 3.53\n",
    "- Paul McCartney: 3.41\n",
    "- Frank Sinatra: 3.13\n",
    "\n",
    "And again we can observe how rappers write many more songs than authors of other types of music \n"
   ]
  },
  {
   "cell_type": "markdown",
   "metadata": {},
   "source": [
    "## Identify the 20 most popular words (exclude stopwords) and comment"
   ]
  },
  {
   "cell_type": "code",
   "execution_count": 5,
   "metadata": {
    "collapsed": true
   },
   "outputs": [],
   "source": [
    "# Create a new list with songs without the most common stopwords of 17 different lenguage\n",
    "# we have also edited the \"english\" file adding the the following words:\n",
    "# \"dont\", \"cant\", \"youre\", \"aint\"\n",
    "# we have also decided to add the condition len(word) >=2 to delete other non-included stopwords\n",
    "\n",
    "stp1=stopwords.words('arabic')\n",
    "stp2=stopwords.words('danish')\n",
    "stp3=stopwords.words('dutch')\n",
    "stp4=stopwords.words('english')\n",
    "stp5=stopwords.words('finnish')\n",
    "stp6=stopwords.words('french')\n",
    "stp7=stopwords.words('german')\n",
    "stp8=stopwords.words('hungarian')\n",
    "stp9=stopwords.words('italian')\n",
    "stp10=stopwords.words('kazakh')\n",
    "stp11=stopwords.words('norwegian')\n",
    "stp12=stopwords.words('portuguese')\n",
    "stp13=stopwords.words('romanian')\n",
    "stp14=stopwords.words('russian')\n",
    "stp15=stopwords.words('spanish')\n",
    "stp16=stopwords.words('swedish')\n",
    "stp17=stopwords.words('turkish')\n",
    "other_words=[\"dont\", \"cant\", \"youre\", \"aint\"]\n",
    "stp4=stp4+other_words"
   ]
  },
  {
   "cell_type": "code",
   "execution_count": 10,
   "metadata": {
    "collapsed": true
   },
   "outputs": [],
   "source": [
    "vuota=[]\n",
    "for i in song_list:\n",
    "    for line in i:\n",
    "        prima=[]\n",
    "        text=' '.join([word for word in line.lower().translate(str.maketrans('', '', string.punctuation)).split()\n",
    "                      if len(word) >=2 and word not in stp1\n",
    "                      and word not in stp2\n",
    "                       and word not in stp3\n",
    "                       and word not in stp4\n",
    "                       and word not in stp5\n",
    "                       and word not in stp6\n",
    "                       and word not in stp7\n",
    "                       and word not in stp8\n",
    "                       and word not in stp9\n",
    "                       and word not in stp10\n",
    "                       and word not in stp11\n",
    "                       and word not in stp12\n",
    "                       and word not in stp13\n",
    "                       and word not in stp14\n",
    "                       and word not in stp15\n",
    "                       and word not in stp16\n",
    "                       and word not in stp17])\n",
    "        prima.append(text)\n",
    "        vuota.append(prima)"
   ]
  },
  {
   "cell_type": "code",
   "execution_count": 82,
   "metadata": {
    "collapsed": true
   },
   "outputs": [],
   "source": [
    "# Found the most common words\n",
    "\n",
    "dicty = {}\n",
    "for k in vuota:\n",
    "    for sentence in k:\n",
    "        for word in re.split('\\s', sentence): # split with whitespace\n",
    "            try:\n",
    "                dicty[word] += 1\n",
    "            except KeyError:\n",
    "                dicty[word] = 1"
   ]
  },
  {
   "cell_type": "code",
   "execution_count": 83,
   "metadata": {
    "collapsed": true
   },
   "outputs": [],
   "source": [
    "# Order the dictionaries\n",
    "\n",
    "ordered=sorted(dicty.items(), key=lambda x: x[1], reverse=True)"
   ]
  },
  {
   "cell_type": "code",
   "execution_count": 84,
   "metadata": {},
   "outputs": [
    {
     "name": "stdout",
     "output_type": "stream",
     "text": [
      "[('love', 131338), ('know', 108479), ('like', 100784), ('oh', 87311), ('got', 80794), ('get', 72267), ('go', 65788), ('one', 63850), ('time', 62619), ('baby', 61540), ('see', 60720), ('never', 57538), ('yeah', 52896), ('say', 50411), ('way', 48444), ('let', 47013), ('cause', 46033), ('make', 45460), ('back', 44800), ('take', 44798)]\n"
     ]
    }
   ],
   "source": [
    "# Print the 20 most common words\n",
    "\n",
    "print(ordered[0:20])"
   ]
  },
  {
   "cell_type": "markdown",
   "metadata": {},
   "source": [
    "We found that the most used word is \"love\", probably this primacy is attributable to the songs written in the 80's, considered by many the \"decades of love\", but it is also due to pop songs that often make use of it.\n",
    "The 80s, with their protests, can probably also be found in the word \"never\" (in twelfth position).\n",
    "The influence of the songs of the 70's may, however, be found in the word \"baby\" (in tithe position), which in those years begins to become a loving nickname, while we can assume that word \"like\" (in third position) is attributable almost entirely to our days, probably because of \"like on Facebook\"."
   ]
  },
  {
   "cell_type": "markdown",
   "metadata": {},
   "source": [
    "## Identify the 10 most common singer names (e.g, “Alice,” “Bob,” “Frank”) and see whether singers whose name is the same tend to publish more songs than others\n"
   ]
  },
  {
   "cell_type": "code",
   "execution_count": 62,
   "metadata": {
    "collapsed": true
   },
   "outputs": [],
   "source": [
    "# remove the duplicate\n",
    "non=Counter(artists_name)\n",
    "nuovaprova=list(non.keys())"
   ]
  },
  {
   "cell_type": "code",
   "execution_count": 63,
   "metadata": {
    "collapsed": true
   },
   "outputs": [],
   "source": [
    "# Create a nested list with name and suppose that the name of the artist is always the first word \n",
    "\n",
    "wo=[]\n",
    "for i in nuovaprova:\n",
    "    words = re.findall(r'\\w+', i)\n",
    "    wo.append(words)\n",
    "lst = [item[0] for item in wo]"
   ]
  },
  {
   "cell_type": "code",
   "execution_count": 64,
   "metadata": {},
   "outputs": [
    {
     "name": "stdout",
     "output_type": "stream",
     "text": [
      "[('The', 26), ('X', 13), ('Tom', 6), ('Queen', 6), ('Steve', 5), ('Q', 5), ('David', 5), ('Peter', 4), ('John', 4), ('Will', 4)]\n"
     ]
    }
   ],
   "source": [
    "# Find the 10 most common name\n",
    "\n",
    "lst2=Counter(lst).most_common(10)\n",
    "print(lst2)"
   ]
  },
  {
   "cell_type": "code",
   "execution_count": 65,
   "metadata": {},
   "outputs": [
    {
     "name": "stdout",
     "output_type": "stream",
     "text": [
      "['Tom', 'Steve', 'David', 'Peter', 'John', 'Will', 'Johnny', 'James', 'George', 'Jimmy']\n"
     ]
    }
   ],
   "source": [
    "# We have also \"The\", \"X\", \"Queen\" and \"Q\" in the most common name, so we have decided to delete this \"false name\"\n",
    "\n",
    "lst2=Counter(lst).most_common(14)\n",
    "use=[x[0] for x in lst2]\n",
    "use.remove('The')\n",
    "use.remove(\"X\")\n",
    "use.remove(\"Q\")\n",
    "use.remove(\"Queen\")\n",
    "print(use)"
   ]
  },
  {
   "cell_type": "code",
   "execution_count": 66,
   "metadata": {
    "collapsed": true
   },
   "outputs": [],
   "source": [
    "# Remember the top 25 productive artist and find their name\n",
    "\n",
    "aba=ordered_list[0:25]\n",
    "woo=[]\n",
    "for i in [x[0] for x in aba]:\n",
    "    words = (re.findall(r'\\w+', i))\n",
    "    woo.append(words)\n",
    "\n",
    "test=[x[1] for x in aba]\n",
    "\n",
    "a=[x for x in zip(woo, test)]"
   ]
  },
  {
   "cell_type": "code",
   "execution_count": 67,
   "metadata": {},
   "outputs": [
    {
     "name": "stdout",
     "output_type": "stream",
     "text": [
      "('Tom', [])\n",
      "('Steve', [])\n",
      "('David', [(['David', 'Bowie'], 211)])\n",
      "('Peter', [])\n",
      "('John', [(['John', 'Denver'], 204)])\n",
      "('Will', [])\n",
      "('Johnny', [])\n",
      "('James', [])\n",
      "('George', [])\n",
      "('Jimmy', [])\n"
     ]
    }
   ],
   "source": [
    "# Concatenate and find if there are some of the top Common Name in the top 25 most productive artists\n",
    "\n",
    "for i in use:\n",
    "    print((i,[item for item in a if item[0][0] == i]))"
   ]
  },
  {
   "cell_type": "markdown",
   "metadata": {},
   "source": [
    "We found that 2 of the most common name (\"David\", \"John\") is in the top 25 of the most productive artist:\n",
    "\n",
    "- David Bowie: 211\n",
    "- John Denver: 204"
   ]
  },
  {
   "cell_type": "markdown",
   "metadata": {},
   "source": [
    "## Create a histogram of song lengths "
   ]
  },
  {
   "cell_type": "code",
   "execution_count": null,
   "metadata": {
    "collapsed": true
   },
   "outputs": [],
   "source": [
    "# Create a list with the songs\n",
    "\n",
    "song=[]\n",
    "for ab in dataset:\n",
    "    song.append(ab[\"lyrics\"])"
   ]
  },
  {
   "cell_type": "code",
   "execution_count": 68,
   "metadata": {
    "collapsed": true
   },
   "outputs": [],
   "source": [
    "# Count number of words in each songs\n",
    "\n",
    "num_words = [len(sentence.split()) for sentence in [value for value in song]]"
   ]
  },
  {
   "cell_type": "code",
   "execution_count": 69,
   "metadata": {
    "collapsed": true
   },
   "outputs": [],
   "source": [
    "# Concatenate\n",
    "unitaa=[x for x in zip(song_name, num_words)]"
   ]
  },
  {
   "cell_type": "code",
   "execution_count": 70,
   "metadata": {},
   "outputs": [
    {
     "data": {
      "image/png": "[encoded data removed]",
      "text/plain": [
       "<matplotlib.figure.Figure at 0x28d50b492e8>"
      ]
     },
     "metadata": {},
     "output_type": "display_data"
    }
   ],
   "source": [
    "# Print the histogram\n",
    "\n",
    "df = pd.DataFrame(unitaa, columns=['Artist Name', 'frequency'])\n",
    "frame1=df.plot(kind='bar', x='Artist Name')\n",
    "frame1.axes.get_xaxis().set_visible(False)\n",
    "plt.show()"
   ]
  },
  {
   "cell_type": "code",
   "execution_count": 71,
   "metadata": {
    "collapsed": true
   },
   "outputs": [],
   "source": [
    "# order the list by song's length\n",
    "\n",
    "ordered_unitaa=sorted(unitaa,key=lambda x: x[1], reverse=True)"
   ]
  },
  {
   "cell_type": "code",
   "execution_count": 72,
   "metadata": {},
   "outputs": [
    {
     "data": {
      "image/png": "[encoded data removed]",
      "text/plain": [
       "<matplotlib.figure.Figure at 0x28d4ee55860>"
      ]
     },
     "metadata": {},
     "output_type": "display_data"
    },
    {
     "name": "stdout",
     "output_type": "stream",
     "text": [
      "We found this values [('More then 2000 words', 11), ('From 1000 to 2000 words', 175), ('From 500 to 1000 words', 4388), ('From 250 to 500 words', 22821), ('From 100 to 250 words', 50094), ('From 50 to 100 words', 6789), ('Less then 50 words', 628)]\n"
     ]
    }
   ],
   "source": [
    "# Divide the list into this group and print the new plot\n",
    "\n",
    "more_2000 = (\"More then 2000 words\",sum(Counter([t[1] for t in ordered_unitaa if t[1] > 2000]).values()))\n",
    "a_1000_to_2000 = (\"From 1000 to 2000 words\",sum(Counter([t[1] for t in ordered_unitaa if t[1] >= 1000 and t[1] < 2000 ]).values()))\n",
    "a_500_to_1000 = (\"From 500 to 1000 words\",sum(Counter([t[1] for t in ordered_unitaa if t[1] >= 500 and t[1] < 1000 ]).values()))\n",
    "a_250_to_500 = (\"From 250 to 500 words\",sum(Counter([t[1] for t in ordered_unitaa if t[1] >= 250 and t[1] < 500 ]).values()))\n",
    "a_100_to_250 = (\"From 100 to 250 words\",sum(Counter([t[1] for t in ordered_unitaa if t[1] >= 100 and t[1] < 250 ]).values()))\n",
    "a_50_to_100 = (\"From 50 to 100 words\",sum(Counter([t[1] for t in ordered_unitaa if t[1] >= 50 and t[1] < 100 ]).values()))\n",
    "less_50 = (\"Less then 50 words\",sum(Counter([t[1] for t in ordered_list if t[1]  < 50]).values()))\n",
    "distribution=[more_2000,a_1000_to_2000,a_500_to_1000,a_250_to_500,a_100_to_250,a_50_to_100,less_50]\n",
    "df = pd.DataFrame(distribution, columns=['Distribution', 'frequency'])\n",
    "frame1=df.plot(kind='bar', x='Distribution')\n",
    "plt.show()\n",
    "print(\"We found this values %s\" %distribution)"
   ]
  },
  {
   "cell_type": "markdown",
   "metadata": {
    "collapsed": true
   },
   "source": [
    "# Search Engine"
   ]
  },
  {
   "cell_type": "markdown",
   "metadata": {},
   "source": [
    "## Index Program"
   ]
  },
  {
   "cell_type": "code",
   "execution_count": 4,
   "metadata": {
    "collapsed": true
   },
   "outputs": [],
   "source": [
    "# Create a list of list of id value\n",
    "\n",
    "prova=[]\n",
    "for i in dataset:\n",
    "    prima=[]\n",
    "    for k in (i['_id'].values()):\n",
    "        prima.append(k)\n",
    "    prova.append(prima)"
   ]
  },
  {
   "cell_type": "code",
   "execution_count": null,
   "metadata": {
    "collapsed": true
   },
   "outputs": [],
   "source": [
    "# We already have text without stopwords and punctuation\n",
    "# list name = vuota"
   ]
  },
  {
   "cell_type": "code",
   "execution_count": 11,
   "metadata": {
    "collapsed": true
   },
   "outputs": [],
   "source": [
    "# Find stem\n",
    "\n",
    "st = LancasterStemmer()\n",
    "vuotaa=[]\n",
    "for i in vuota:\n",
    "    documents = [[st.stem(word) for word in sentence.split(\" \")] for sentence in i]\n",
    "    vuotaa.append(documents)"
   ]
  },
  {
   "cell_type": "code",
   "execution_count": 12,
   "metadata": {
    "collapsed": true
   },
   "outputs": [],
   "source": [
    "# Create new dictionaries with id, stemmed list of song and make a list of dictionary with also the frequency\n",
    "\n",
    "dizionario=[]\n",
    "for i,j in zip(prova,vuotaa):\n",
    "    riprova=dict(zip(i,j))\n",
    "    dizionario.append(riprova)"
   ]
  },
  {
   "cell_type": "code",
   "execution_count": 13,
   "metadata": {
    "collapsed": true
   },
   "outputs": [],
   "source": [
    "frequenze=[]\n",
    "for i in vuotaa:\n",
    "    for j in i:\n",
    "        common=Counter(j)\n",
    "        frequenze.append(common)"
   ]
  },
  {
   "cell_type": "code",
   "execution_count": 14,
   "metadata": {
    "collapsed": true
   },
   "outputs": [],
   "source": [
    "ook=[]\n",
    "for i in frequenze:\n",
    "    ok=[]\n",
    "    a=dict(i)\n",
    "    ok.append(a)\n",
    "    ook.append(ok)"
   ]
  },
  {
   "cell_type": "code",
   "execution_count": 15,
   "metadata": {
    "collapsed": true
   },
   "outputs": [],
   "source": [
    "dizionario=[]\n",
    "for i,j in zip(prova,ook):\n",
    "    riprova=dict(zip(i,j))\n",
    "    dizionario.append(riprova)"
   ]
  },
  {
   "cell_type": "code",
   "execution_count": 16,
   "metadata": {
    "collapsed": true
   },
   "outputs": [],
   "source": [
    "# In order to remove the internet problem, we have also make  a local copy of the dictionary created;\n",
    "# we choce to use numpy for his speed\n",
    "\n",
    "numpy.save(\"dizionario\", dizionario)"
   ]
  },
  {
   "cell_type": "code",
   "execution_count": null,
   "metadata": {
    "collapsed": true
   },
   "outputs": [],
   "source": [
    "# If needed we can load the file with this command\n",
    "\n",
    "dizionario=list(numpy.load(\"dizionario.npy\"))"
   ]
  },
  {
   "cell_type": "code",
   "execution_count": null,
   "metadata": {
    "collapsed": true
   },
   "outputs": [],
   "source": [
    "#Find all the words used\n",
    "\n",
    "parole=[]\n",
    "for i in dizionario:\n",
    "    for j in i.values():\n",
    "        for k in j:\n",
    "            parole.append(k)"
   ]
  },
  {
   "cell_type": "code",
   "execution_count": null,
   "metadata": {
    "collapsed": true
   },
   "outputs": [],
   "source": [
    "# Delete duplicate words\n",
    "\n",
    "parole = list(set(parole))"
   ]
  },
  {
   "cell_type": "code",
   "execution_count": null,
   "metadata": {
    "collapsed": true
   },
   "outputs": [],
   "source": [
    "# Create the vocabulary\n",
    "\n",
    "vocabulary=dict(zip(parole,parole))"
   ]
  },
  {
   "cell_type": "code",
   "execution_count": null,
   "metadata": {
    "collapsed": true
   },
   "outputs": [],
   "source": [
    "# Build the inverted index\n",
    "\n",
    "caricare=[]\n",
    "for words in vocabulary.values():\n",
    "    for i in dizionario:\n",
    "        for j in i.values():\n",
    "            \n",
    "            if words in j:\n",
    "                nuovo_dizionario={}\n",
    "                nuovo_dizionario[words]=((*i.keys(),j[words]))\n",
    "                caricare.append(dict(nuovo_dizionario))"
   ]
  },
  {
   "cell_type": "code",
   "execution_count": null,
   "metadata": {
    "collapsed": true
   },
   "outputs": [],
   "source": [
    "index = {}\n",
    "for d in caricare:\n",
    "    for k,v in d.items():\n",
    "        index.setdefault(k, []).append(v)\n",
    "index=[{k:v} for k,v in index.items()]"
   ]
  },
  {
   "cell_type": "code",
   "execution_count": null,
   "metadata": {
    "collapsed": true
   },
   "outputs": [],
   "source": [
    "# In order to remove the internet problem, we have also make  a local copy of the dictionary created;\n",
    "# we choce to use numpy for his speed\n",
    "\n",
    "numpy.save(\"index\", index)"
   ]
  },
  {
   "cell_type": "code",
   "execution_count": null,
   "metadata": {
    "collapsed": true
   },
   "outputs": [],
   "source": [
    "# If needed we can load the file with this command\n",
    "\n",
    "index=list(numpy.load(\"index.npy\")"
   ]
  },
  {
   "cell_type": "code",
   "execution_count": null,
   "metadata": {
    "collapsed": true
   },
   "outputs": [],
   "source": [
    "# Store Vocabulary and Index as documents in MongoDB database,\n",
    "# using MongoDB Hosting: Database-as-a-Service by mLab\n",
    "# To reduce the problems of the internet and speed up site response time, we decided to upload the files to several groups\n",
    "# It's necessary use time sleep of 3 second for a correct count on mlab and for skip \" quota excedeed\" problem\n",
    "\n",
    "# For this upload we needed 376.46 MB of free space on mlab, so we have used other account\n",
    "\n",
    "params = {'apiKey': 'LQ6h51NkbYPZMkll06pUmSxguV4wvX0c'}\n",
    "dbname = 'prova'\n",
    "collection = 'Index'"
   ]
  },
  {
   "cell_type": "code",
   "execution_count": null,
   "metadata": {
    "collapsed": true
   },
   "outputs": [],
   "source": [
    "url = 'https://api.mlab.com/api/1/databases/' + dbname + '/collections/' + collection\n",
    "headers = {'content-type': 'application/json'}\n",
    "data = json.dumps(vocabulary)\n",
    "response = requests.post(url, data=data, params=params, headers=headers)"
   ]
  },
  {
   "cell_type": "code",
   "execution_count": null,
   "metadata": {
    "collapsed": true
   },
   "outputs": [],
   "source": [
    "for i in range(0,len(index),10000):\n",
    "    url = 'https://api.mlab.com/api/1/databases/' + dbname + '/collections/' + collection\n",
    "    headers = {'content-type': 'application/json'}\n",
    "    data = json.dumps(index[i:i+10000])\n",
    "    response = requests.post(url, data=data, params=params, headers=headers)\n",
    "    time.sleep(3)"
   ]
  },
  {
   "cell_type": "markdown",
   "metadata": {
    "collapsed": true
   },
   "source": [
    "## Search Program"
   ]
  },
  {
   "cell_type": "code",
   "execution_count": null,
   "metadata": {
    "collapsed": true
   },
   "outputs": [],
   "source": [
    "# Create a list of id value\n",
    "\n",
    "lista_id=[]\n",
    "for i in dataset:\n",
    "    lista_id.append(*i['_id'].values())"
   ]
  },
  {
   "cell_type": "code",
   "execution_count": null,
   "metadata": {
    "collapsed": true
   },
   "outputs": [],
   "source": [
    "# Create a list with the songs-name\n",
    "\n",
    "song_name=[]\n",
    "for ac in dataset:\n",
    "    song_name.append(ac[\"song-name\"])"
   ]
  },
  {
   "cell_type": "code",
   "execution_count": null,
   "metadata": {
    "collapsed": true
   },
   "outputs": [],
   "source": [
    "# Concatenate\n",
    "\n",
    "song_id=[x for x in zip(lista_id, song_name)]"
   ]
  },
  {
   "cell_type": "code",
   "execution_count": null,
   "metadata": {
    "collapsed": true
   },
   "outputs": [],
   "source": [
    "# Create a new index with also tf and idf\n",
    "\n",
    "lista_molti=[]\n",
    "for word in index:\n",
    "    for i in word.values():\n",
    "        for yt in [x[1] for x in i]:\n",
    "            lista_molti.append((yt,(log(len(dizionario)/(len([x[1] for x in i]))).real),yt*(log(len(dizionario)/(len([x[1] for x in i]))).real)))\n",
    "\n",
    "prova=[]\n",
    "cont=0\n",
    "for word in index:\n",
    "    provaa=[]\n",
    "    for chiave in word:\n",
    "        k=dict(word[chiave])\n",
    "        \n",
    "        for elem in k.keys():\n",
    "            k[elem]=lista_molti[cont]\n",
    "            cont+=1\n",
    "        provaa.append(k)\n",
    "    prova.append((provaa))\n",
    "    \n",
    "indexx=copy.deepcopy(index)\n",
    "\n",
    "looper = 0\n",
    "for dic in indexx:\n",
    "    for key in dic.keys():\n",
    "        dic[key] = prova[looper]\n",
    "        looper += 1"
   ]
  },
  {
   "cell_type": "code",
   "execution_count": null,
   "metadata": {
    "collapsed": true
   },
   "outputs": [],
   "source": [
    "numpy.save('indexx',indexx)          "
   ]
  },
  {
   "cell_type": "code",
   "execution_count": null,
   "metadata": {
    "collapsed": true
   },
   "outputs": [],
   "source": [
    "indexx_idf={}\n",
    "parole=[]\n",
    "for i in indexx:\n",
    "    for ii in i.values():\n",
    "        for iii in ii:\n",
    "            G = str(i.keys())[12:-3]\n",
    "            indexx_idf[G]=([x[1] for x in iii.values()][0])"
   ]
  },
  {
   "cell_type": "code",
   "execution_count": null,
   "metadata": {
    "collapsed": true
   },
   "outputs": [],
   "source": [
    "def query_1():\n",
    "    # find stem in queryy\n",
    "\n",
    "    query=[st.stem(i) for i in queryy]\n",
    "\n",
    "    # find docs with query and weight\n",
    "    print('Be patient, we are searching for the documents')\n",
    "    dq = deque()\n",
    "    doc= deque()\n",
    "    moltiplicare= deque()\n",
    "    for i in index:\n",
    "        for j in i:\n",
    "            if any(query[o] == j for o in range(len(query))):\n",
    "                dq.append(i)\n",
    "                for n in i.values():\n",
    "                    moltiplicare.append((log(len(dizionario)/(len(n)))).real)\n",
    "                    doc.append([x[0] for x in n])\n",
    "    \n",
    "\n",
    "    docs=list(set([j for i in doc for j in i]))\n",
    "    L=len(docs)\n",
    "    print('Done... found %s documents'%len(docs))\n",
    "    if L == 0:\n",
    "        print('No documents')\n",
    "        return\n",
    "\n",
    "    # calculate cosine similarity \n",
    "    print('Be patient, we are calculating the cosine similarity')\n",
    "    dict_v = {}\n",
    "    listone=deque()\n",
    "    for i in docs:\n",
    "        vettori=deque()                              \n",
    "        for j in range(len(dizionario)):\n",
    "            G = str(dizionario[j].keys())[12:-3]\n",
    "            if i == G:\n",
    "                C = dizionario[j][G]\n",
    "        q_v = dict.fromkeys(C, 0)        \n",
    "        for q in query:\n",
    "            for j in C:\n",
    "                if j ==q:\n",
    "                    q_v[j] += 1\n",
    "                \n",
    "            vettori.append(q_v)\n",
    "        \n",
    "        b1=deque()\n",
    "        b2=deque()\n",
    "        for k in C.keys():\n",
    "            try:\n",
    "                b2.append(indexx_idf[k])\n",
    "            except:\n",
    "                b2.append(0)\n",
    "        for k in C.values():\n",
    "            b1.append(k)\n",
    "        b1=numpy.array(b1)\n",
    "        b2=numpy.array(b2)\n",
    "        b=b1*b2\n",
    "        \n",
    "        \n",
    "        Query=deque()\n",
    "        for l in vettori:\n",
    "            a=deque()\n",
    "            for h in l.values():\n",
    "                a.append(h)\n",
    "            a=numpy.array(a)\n",
    "            Query.append(a)\n",
    "        listone.append(Query)\n",
    "\n",
    "\n",
    "        for x in listone:\n",
    "            R=0\n",
    "            for j in range(len(x)):\n",
    "                try:\n",
    "                    R+=x[j]*moltiplicare[j]\n",
    "                except:\n",
    "                    print('Invalid query: one or more words are not in the database')\n",
    "                    return\n",
    "                \n",
    "\n",
    "        dict_v[i] = numpy.dot(R,b) / (LA.norm(R)*LA.norm(b))\n",
    "\n",
    "        if L <100:\n",
    "            if len(dict_v)%10==0:\n",
    "                print(\"Done %s on %s \" %(len(dict_v),L))\n",
    "        else:\n",
    "            if len(dict_v)%100==0:\n",
    "                print(\"Done %s on %s \" %(len(dict_v),L))\n",
    "\n",
    "\n",
    "    # find top 10 docs\n",
    "    top10_values = nlargest(10, dict_v.values())\n",
    "    classifica=deque()\n",
    "    for i in top10_values:\n",
    "        for b in dict_v.values():\n",
    "            if i == b:\n",
    "                classifica.append(list(dict_v.keys())[list(dict_v.values()).index(b)])\n",
    "    lista_finale=deque()\n",
    "    for i in song_id:\n",
    "        for m in classifica:\n",
    "            if m == i[0]:\n",
    "                lista_finale.append(i[1])\n",
    "    print('These are the song name:',list(lista_finale))\n",
    "    \n",
    "    return\n",
    "    "
   ]
  },
  {
   "cell_type": "code",
   "execution_count": 1,
   "metadata": {
    "collapsed": true
   },
   "outputs": [],
   "source": [
    "def query_2():\n",
    "    # find stem in queryy\n",
    "    query=[st.stem(i) for i in queryy]\n",
    "    print('Be patient, we are searching for the documents')\n",
    "    \n",
    "    dq = []\n",
    "    for i in index:\n",
    "        for j in i:\n",
    "            if any(query[o] == j for o in range(len(query))):\n",
    "                dq.append(i)\n",
    "    aa=[]\n",
    "    for i in dq:\n",
    "        for k in i.values():\n",
    "            aa.append([x[0] for x in k])\n",
    "    aa=[j for i in aa for j in i]\n",
    "    \n",
    "    # Find the documents that contein all the query term\n",
    "    comuni=list(set([x for x in aa if aa.count(x) >= len(query)]))\n",
    "    \n",
    "    L=len(comuni)\n",
    "    if L == 0:\n",
    "        print('No documents')\n",
    "        return\n",
    "    \n",
    "    print('Found %s documents , give a value' %len(comuni))\n",
    "    k=int(input())\n",
    "    \n",
    "    # vvv will contain a dictionary for each doc that matches the query, with words and respective tf_idf normalized\n",
    "    vvv = []\n",
    "    # vocabolario will contain all the words of the union of all the documents taken only once\n",
    "    vocabolario = set()\n",
    "\n",
    "    for i in comuni:\n",
    "        vettori=[]                              \n",
    "        for j in range(len(dizionario)):\n",
    "            G = str(dizionario[j].keys())[12:-3]\n",
    "            if i == G:\n",
    "                C = dizionario[j][G]\n",
    "        Query=[]\n",
    "        b1=[]\n",
    "        b2=[]\n",
    "        for kk in C.keys():\n",
    "            vocabolario.add(kk)\n",
    "            try:\n",
    "                b2.append(indexx_idf[kk])\n",
    "            except:\n",
    "                b2.append(0)\n",
    "        for kk in C.values():\n",
    "            b1.append(kk)\n",
    "        b1=numpy.array(b1)\n",
    "        b2=numpy.array(b2)\n",
    "        b=b1*b2\n",
    "\n",
    "        f = {}\n",
    "        KEY = []\n",
    "        bb= [float(i)/numpy.linalg.norm(b) for i in b]\n",
    "        for w in C.keys():\n",
    "            KEY.append(w)\n",
    "        for t in range(len(b)):\n",
    "            f[KEY[t]] = bb[t]\n",
    "        vvv.append(f) \n",
    "    Q = []                  \n",
    "    for i in range(len(comuni)):\n",
    "        #vector that will contain the values related to the words, with the order in which they appear in the dictionary\n",
    "        V = []\n",
    "        for j in vocabolario:\n",
    "            if j not in vvv[i]: \n",
    "                V.append(0)\n",
    "            if j in vvv[i]:\n",
    "                V.append(vvv[i][j])\n",
    "        Q.append(V)\n",
    "    kmeans = KMeans(n_clusters = k, init = 'random')\n",
    "    kmeans.fit(Q)\n",
    "    pred = kmeans.predict(Q)\n",
    "    \n",
    "    #Associate the number of the cluster to each document\n",
    "    dict_cluster = dict(zip(comuni,pred))\n",
    "    \n",
    "    # Regroup by n clusters\n",
    "    inv_map = {}\n",
    "    for l, v in dict_cluster.items():\n",
    "        inv_map[v] = inv_map.get(v, [])\n",
    "        inv_map[v].append(l)\n",
    "    artist=[]\n",
    "    for ok in inv_map.values():\n",
    "        artisti=[]\n",
    "        for j in ok:\n",
    "            for i in range(len(dataset)):\n",
    "                if dataset[i]['_id']['$oid'] == j:\n",
    "                    artisti.append(dataset[i]['artist'])\n",
    "        artist.append(artisti)\n",
    "        \n",
    "    song_name=[]\n",
    "    for ok in inv_map.values():\n",
    "        canzoni=[]\n",
    "        for j in ok:\n",
    "            for i in range(len(dataset)):\n",
    "                if dataset[i]['_id']['$oid'] == j:\n",
    "                    canzoni.append(dataset[i]['song-name'])\n",
    "        song_name.append(canzoni)\n",
    "        \n",
    "    lyrics=[]\n",
    "    for ok in inv_map.values():\n",
    "        testi=[]\n",
    "        for j in ok:\n",
    "            for i in range(len(dataset)):\n",
    "                if dataset[i]['_id']['$oid'] == j:\n",
    "                    testi.append(dataset[i]['lyrics'])\n",
    "        lyrics.append(testi)\n",
    "    \n",
    "    # Remove stopwords\n",
    "    stp1=stopwords.words('arabic')\n",
    "    stp2=stopwords.words('danish')\n",
    "    stp3=stopwords.words('dutch')\n",
    "    stp4=stopwords.words('english')\n",
    "    stp5=stopwords.words('finnish')\n",
    "    stp6=stopwords.words('french')\n",
    "    stp7=stopwords.words('german')\n",
    "    stp8=stopwords.words('hungarian')\n",
    "    stp9=stopwords.words('italian')\n",
    "    stp10=stopwords.words('kazakh')\n",
    "    stp11=stopwords.words('norwegian')\n",
    "    stp12=stopwords.words('portuguese')\n",
    "    stp13=stopwords.words('romanian')\n",
    "    stp14=stopwords.words('russian')\n",
    "    stp15=stopwords.words('spanish')\n",
    "    stp16=stopwords.words('swedish')\n",
    "    stp17=stopwords.words('turkish')\n",
    "    other_words=[\"dont\", \"cant\", \"youre\", \"aint\"]\n",
    "    stp4=stp4+other_words\n",
    "    \n",
    "    vuota=[]\n",
    "    for i in lyrics:\n",
    "        for line in i:\n",
    "            prima=[]\n",
    "            text=' '.join([word for word in line.lower().translate(str.maketrans('', '', string.punctuation)).split()\n",
    "                          if len(word) >=2 and word not in stp1\n",
    "                          and word not in stp2\n",
    "                           and word not in stp3\n",
    "                           and word not in stp4\n",
    "                           and word not in stp5\n",
    "                           and word not in stp6\n",
    "                           and word not in stp7\n",
    "                           and word not in stp8\n",
    "                           and word not in stp9\n",
    "                           and word not in stp10\n",
    "                           and word not in stp11\n",
    "                           and word not in stp12\n",
    "                           and word not in stp13\n",
    "                           and word not in stp14\n",
    "                           and word not in stp15\n",
    "                           and word not in stp16\n",
    "                           and word not in stp17])\n",
    "            prima.append(text)\n",
    "        vuota.append(prima)\n",
    "    \n",
    "    prova=[]\n",
    "    for kkk in vuota:\n",
    "        canzone=[]\n",
    "        for sentence in kkk:\n",
    "            for word in re.split('\\s', sentence): # split with whitespace\n",
    "                canzone.append(word)\n",
    "        prova.append(canzone)\n",
    "        \n",
    "    lyri=[]\n",
    "    for i in prova:\n",
    "        lst2=Counter(i).most_common(10)\n",
    "        lyri.append([x[0] for x in lst2])\n",
    "        \n",
    "    aaa=artist+song_name+lyri\n",
    "    cloud=[]\n",
    "    for i in range(0,k):\n",
    "        cloud.append(aaa[i]+aaa[i+k]+aaa[i+k+k])\n",
    "    \n",
    "    for i in cloud:\n",
    "        str1=' '.join(i)\n",
    "        wordcloud=WordCloud(background_color='green',\n",
    "                        width=1200,\n",
    "                        height=1000).generate(str1)\n",
    "        plt.imshow(wordcloud)\n",
    "        plt.axis('off')\n",
    "        plt.show()\n",
    "    \n",
    "    return"
   ]
  },
  {
   "cell_type": "code",
   "execution_count": null,
   "metadata": {},
   "outputs": [],
   "source": [
    "print('enter set of words')\n",
    "queryy=(input().split())\n",
    "\n",
    "# Stem query\n",
    "query=[]\n",
    "for i in queryy:\n",
    "    documents = st.stem(i)\n",
    "    query.append(documents)\n",
    "    \n",
    "print(\"Choose query 1 or 2\")\n",
    "n=int(input())\n",
    "if n==1:\n",
    "    start_time=time.time()\n",
    "    query_1()\n",
    "elif n==2:\n",
    "    start_time=time.time()\n",
    "    query_2()\n",
    "else:\n",
    "    print('Wrong digit')\n",
    "    for i in (3,2,1):\n",
    "        print('Computer will self-destruct %s seconds '%i)\n",
    "        time.sleep(1)\n",
    "    print('Boom')\n",
    "    \n",
    "print(' used %s second' %(time.time()-start_time))"
   ]
  },
  {
   "cell_type": "code",
   "execution_count": null,
   "metadata": {
    "collapsed": true
   },
   "outputs": [],
   "source": []
  },
  {
   "cell_type": "code",
   "execution_count": null,
   "metadata": {
    "collapsed": true
   },
   "outputs": [],
   "source": []
  }
 ],
 "metadata": {
  "kernelspec": {
   "display_name": "Python 3",
   "language": "python",
   "name": "python3"
  },
  "language_info": {
   "codemirror_mode": {
    "name": "ipython",
    "version": 3
   },
   "file_extension": ".py",
   "mimetype": "text/x-python",
   "name": "python",
   "nbconvert_exporter": "python",
   "pygments_lexer": "ipython3",
   "version": "3.6.1"
  }
 },
 "nbformat": 4,
 "nbformat_minor": 2
}
