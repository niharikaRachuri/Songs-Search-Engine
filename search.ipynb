{
 "cells": [
  {
   "cell_type": "code",
   "execution_count": 11,
   "metadata": {},
   "outputs": [
    {
     "name": "stdout",
     "output_type": "stream",
     "text": [
      "enter set of words\n",
      "love sun\n"
     ]
    }
   ],
   "source": [
    "print('enter set of words')\n",
    "m=(input().split())"
   ]
  },
  {
   "cell_type": "code",
   "execution_count": 12,
   "metadata": {},
   "outputs": [
    {
     "data": {
      "text/plain": [
       "['love', 'sun']"
      ]
     },
     "execution_count": 12,
     "metadata": {},
     "output_type": "execute_result"
    }
   ],
   "source": [
    "m"
   ]
  },
  {
   "cell_type": "code",
   "execution_count": 1,
   "metadata": {},
   "outputs": [
    {
     "name": "stdout",
     "output_type": "stream",
     "text": [
      "Choose query 1 or 2\n",
      "1\n"
     ]
    }
   ],
   "source": [
    "print(\"Choose query 1 or 2\")\n",
    "n=int(input())"
   ]
  },
  {
   "cell_type": "code",
   "execution_count": null,
   "metadata": {
    "collapsed": true
   },
   "outputs": [],
   "source": [
    "# query 1: cosine similarity"
   ]
  },
  {
   "cell_type": "code",
   "execution_count": null,
   "metadata": {
    "collapsed": true
   },
   "outputs": [],
   "source": [
    "if n=1:"
   ]
  },
  {
   "cell_type": "code",
   "execution_count": 35,
   "metadata": {},
   "outputs": [],
   "source": [
    "index=[{\"love\":[(\"doc1\", 3), ('doc2', 5),('doc3', 3),('doc6', 10),('doc7', 5),('doc10', 1) ]},\n",
    "{'ciao':[('doc1', 6), ('doc3', 3)]},\n",
    "      {'sun':[('doc1', 6), ('doc3', 3)]}]"
   ]
  },
  {
   "cell_type": "code",
   "execution_count": 36,
   "metadata": {},
   "outputs": [
    {
     "data": {
      "text/plain": [
       "[{'love': [('doc1', 3),\n",
       "   ('doc2', 5),\n",
       "   ('doc3', 3),\n",
       "   ('doc6', 10),\n",
       "   ('doc7', 5),\n",
       "   ('doc10', 1)]},\n",
       " {'ciao': [('doc1', 6), ('doc3', 3)]},\n",
       " {'sun': [('doc1', 6), ('doc3', 3)]}]"
      ]
     },
     "execution_count": 36,
     "metadata": {},
     "output_type": "execute_result"
    }
   ],
   "source": [
    "index"
   ]
  },
  {
   "cell_type": "code",
   "execution_count": 37,
   "metadata": {},
   "outputs": [
    {
     "data": {
      "text/plain": [
       "{'love': [('doc1', 3),\n",
       "  ('doc2', 5),\n",
       "  ('doc3', 3),\n",
       "  ('doc6', 10),\n",
       "  ('doc7', 5),\n",
       "  ('doc10', 1)]}"
      ]
     },
     "execution_count": 37,
     "metadata": {},
     "output_type": "execute_result"
    }
   ],
   "source": [
    "index[0]"
   ]
  },
  {
   "cell_type": "code",
   "execution_count": 62,
   "metadata": {},
   "outputs": [],
   "source": [
    "from collections import defaultdict"
   ]
  },
  {
   "cell_type": "code",
   "execution_count": 68,
   "metadata": {},
   "outputs": [
    {
     "name": "stdout",
     "output_type": "stream",
     "text": [
      "no love in word\n"
     ]
    }
   ],
   "source": [
    "penna=defaultdict(list)\n",
    "for i in index:\n",
    "    for j in i:\n",
    "        tempo=[]\n",
    "        if any(m[o] == j for o in range(len(m))):\n",
    "            \n",
    "            tempo.append(*i.values())\n",
    "            penna['prova'].append(tempo)\n",
    "            #print(i)\n",
    "        else:\n",
    "            print('no love in word')"
   ]
  },
  {
   "cell_type": "code",
   "execution_count": 69,
   "metadata": {},
   "outputs": [
    {
     "data": {
      "text/plain": [
       "defaultdict(list,\n",
       "            {'prova': [[[('doc1', 3),\n",
       "                ('doc2', 5),\n",
       "                ('doc3', 3),\n",
       "                ('doc6', 10),\n",
       "                ('doc7', 5),\n",
       "                ('doc10', 1)]],\n",
       "              [[('doc1', 6), ('doc3', 3)]]]})"
      ]
     },
     "execution_count": 69,
     "metadata": {},
     "output_type": "execute_result"
    }
   ],
   "source": [
    "penna"
   ]
  },
  {
   "cell_type": "code",
   "execution_count": 70,
   "metadata": {
    "collapsed": true
   },
   "outputs": [],
   "source": [
    "for i in penna:\n",
    "    set(i)"
   ]
  },
  {
   "cell_type": "code",
   "execution_count": 71,
   "metadata": {},
   "outputs": [
    {
     "data": {
      "text/plain": [
       "defaultdict(list,\n",
       "            {'prova': [[[('doc1', 3),\n",
       "                ('doc2', 5),\n",
       "                ('doc3', 3),\n",
       "                ('doc6', 10),\n",
       "                ('doc7', 5),\n",
       "                ('doc10', 1)]],\n",
       "              [[('doc1', 6), ('doc3', 3)]]]})"
      ]
     },
     "execution_count": 71,
     "metadata": {},
     "output_type": "execute_result"
    }
   ],
   "source": [
    "penna"
   ]
  },
  {
   "cell_type": "code",
   "execution_count": null,
   "metadata": {
    "collapsed": true
   },
   "outputs": [],
   "source": [
    "# find top 3 should be doc1 (3+6), doc3 (3+3), doc6 (10+0) ???"
   ]
  },
  {
   "cell_type": "code",
   "execution_count": 46,
   "metadata": {},
   "outputs": [
    {
     "name": "stdout",
     "output_type": "stream",
     "text": [
      "('doc1', 3)\n",
      "('doc2', 5)\n",
      "('doc3', 3)\n",
      "('doc6', 10)\n",
      "('doc7', 5)\n",
      "('doc10', 1)\n",
      "('doc1', 6)\n",
      "('doc3', 3)\n"
     ]
    }
   ],
   "source": [
    "for j in penna:\n",
    "    for g in j:\n",
    "        print(g)"
   ]
  },
  {
   "cell_type": "code",
   "execution_count": null,
   "metadata": {
    "collapsed": true
   },
   "outputs": [],
   "source": [
    "from sklearn.metrics.pairwise import cosine_similarity\n",
    "# creat an empty list\n",
    "distance=[] \n",
    "# scroll over all the documents d1...dn\n",
    "for i in m:\n",
    "    for j in elenco_documenti:\n",
    "        a= (cosine_similarity(i,j)) # calculate cosine_similarity between all the documents\n",
    "        distance.append([a,(i,j)])  # append to distance[] the value of cosine_similarity and \n",
    "                                    # the 2 documents from which it is generated\n",
    "\n",
    "print(max(distance[0]))             # at the end print the max cosine_similarity(max=closest) and the \n",
    "                                    # 2 documents from which it is generated\n"
   ]
  },
  {
   "cell_type": "code",
   "execution_count": 47,
   "metadata": {
    "collapsed": true
   },
   "outputs": [],
   "source": [
    "from collections import Counter"
   ]
  },
  {
   "cell_type": "code",
   "execution_count": 48,
   "metadata": {
    "collapsed": true
   },
   "outputs": [],
   "source": [
    "# word-lists to compare\n",
    "a = [u'home (private)', u'bank', u'bank', u'building(condo/apartment)','factory']\n",
    "b = [u'home (private)', u'school', u'bank', u'shopping mall']"
   ]
  },
  {
   "cell_type": "code",
   "execution_count": 49,
   "metadata": {
    "collapsed": true
   },
   "outputs": [],
   "source": [
    "# count word occurrences\n",
    "a_vals = Counter(a)\n",
    "b_vals = Counter(b)"
   ]
  },
  {
   "cell_type": "code",
   "execution_count": 50,
   "metadata": {},
   "outputs": [
    {
     "data": {
      "text/plain": [
       "Counter({'bank': 2,\n",
       "         'building(condo/apartment)': 1,\n",
       "         'factory': 1,\n",
       "         'home (private)': 1})"
      ]
     },
     "execution_count": 50,
     "metadata": {},
     "output_type": "execute_result"
    }
   ],
   "source": [
    "a_vals"
   ]
  },
  {
   "cell_type": "code",
   "execution_count": 51,
   "metadata": {},
   "outputs": [
    {
     "data": {
      "text/plain": [
       "Counter({'bank': 1, 'home (private)': 1, 'school': 1, 'shopping mall': 1})"
      ]
     },
     "execution_count": 51,
     "metadata": {},
     "output_type": "execute_result"
    }
   ],
   "source": [
    "b_vals"
   ]
  },
  {
   "cell_type": "code",
   "execution_count": null,
   "metadata": {
    "collapsed": true
   },
   "outputs": [],
   "source": [
    "q = (1,1)"
   ]
  },
  {
   "cell_type": "code",
   "execution_count": 52,
   "metadata": {
    "collapsed": true
   },
   "outputs": [],
   "source": [
    "\n",
    "# convert to word-vectors\n",
    "words  = list(a_vals.keys() | b_vals.keys())\n",
    "a_vect = [a_vals.get(word, 0) for word in words]        # [0, 0, 1, 1, 2, 1]\n",
    "b_vect = [b_vals.get(word, 0) for word in words]        # [1, 1, 1, 0, 1, 0]\n",
    "\n",
    "# find cosine\n",
    "len_a  = sum(av*av for av in a_vect) ** 0.5             # sqrt(7)\n",
    "len_b  = sum(bv*bv for bv in b_vect) ** 0.5             # sqrt(4)\n",
    "dot    = sum(av*bv for av,bv in zip(a_vect, b_vect))    # 3\n",
    "cosine = dot / (len_a * len_b) "
   ]
  },
  {
   "cell_type": "code",
   "execution_count": 53,
   "metadata": {},
   "outputs": [
    {
     "data": {
      "text/plain": [
       "0.5669467095138409"
      ]
     },
     "execution_count": 53,
     "metadata": {},
     "output_type": "execute_result"
    }
   ],
   "source": [
    "cosine"
   ]
  },
  {
   "cell_type": "code",
   "execution_count": null,
   "metadata": {
    "collapsed": true
   },
   "outputs": [],
   "source": []
  },
  {
   "cell_type": "code",
   "execution_count": null,
   "metadata": {
    "collapsed": true
   },
   "outputs": [],
   "source": []
  }
 ],
 "metadata": {
  "kernelspec": {
   "display_name": "Python 3",
   "language": "python",
   "name": "python3"
  },
  "language_info": {
   "codemirror_mode": {
    "name": "ipython",
    "version": 3
   },
   "file_extension": ".py",
   "mimetype": "text/x-python",
   "name": "python",
   "nbconvert_exporter": "python",
   "pygments_lexer": "ipython3",
   "version": "3.6.1"
  }
 },
 "nbformat": 4,
 "nbformat_minor": 2
}
