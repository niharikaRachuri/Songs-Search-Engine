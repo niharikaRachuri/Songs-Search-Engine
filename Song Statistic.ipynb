{
 "cells": [
  {
   "cell_type": "code",
   "execution_count": null,
   "metadata": {},
   "outputs": [],
   "source": [
    "#per la prima volta\n",
    "import nltk\n",
    "nltk.download(\"stopwords\",\"punkt\",'popular')\n",
    "nltk.download('punkt') >> nltk.download('averaged_perceptron_tagger')"
   ]
  },
  {
   "cell_type": "markdown",
   "metadata": {},
   "source": []
  },
  {
   "cell_type": "code",
   "execution_count": null,
   "metadata": {
    "collapsed": true
   },
   "outputs": [],
   "source": [
    "#load the dictionaries we create before\n",
    "import numpy\n",
    "d_aperto=numpy.load(\"autori e canzoni.npy\").item()###\n",
    "testi_aperto=numpy.load(\"testi.npy\").item()###"
   ]
  },
  {
   "cell_type": "code",
   "execution_count": null,
   "metadata": {
    "collapsed": true
   },
   "outputs": [],
   "source": [
    "#load also songs file and artist name file we create before\n",
    "solo_testi=numpy.load(\"solotesti.npy\")\n",
    "nomi_artisti=numpy.load(\"nomiartisti.npy\")"
   ]
  },
  {
   "cell_type": "code",
   "execution_count": null,
   "metadata": {
    "collapsed": true
   },
   "outputs": [],
   "source": [
    "import statistics\n",
    "from operator import itemgetter\n",
    "import pandas as pd\n",
    "import matplotlib.pyplot as plt\n",
    "import nltk\n",
    "import string\n",
    "from nltk.corpus import stopwords\n",
    "import re\n",
    "from collections import Counter"
   ]
  },
  {
   "cell_type": "code",
   "execution_count": null,
   "metadata": {
    "collapsed": true
   },
   "outputs": [],
   "source": [
    "#convert orderdict to dictionary and convert solo_testi to a list and artistiname\n",
    "dizionario=dict(d_aperto)####\n",
    "solo_testi=list(solo_testi)###\n",
    "nomi_artisti=list(nomi_artisti)###"
   ]
  },
  {
   "cell_type": "code",
   "execution_count": null,
   "metadata": {
    "collapsed": true
   },
   "outputs": [],
   "source": [
    "#find the number of songs for each author\n",
    "def most_song (artisti):\n",
    "    frequenze=[]\n",
    "    for i in artisti:\n",
    "        a=(i,len((artisti[i])))\n",
    "        frequenze.append(a)\n",
    "    return (frequenze)"
   ]
  },
  {
   "cell_type": "code",
   "execution_count": null,
   "metadata": {
    "collapsed": true
   },
   "outputs": [],
   "source": [
    "#calculate the mean of the number of songs for each author\n",
    "def most_song_mean (artisti):\n",
    "    frequenze=[]\n",
    "    for i in artisti:\n",
    "        a=len(artisti[i])\n",
    "        frequenze.append(a)\n",
    "    return (\"mean\", statistics.mean(frequenze))"
   ]
  },
  {
   "cell_type": "code",
   "execution_count": null,
   "metadata": {
    "scrolled": true
   },
   "outputs": [],
   "source": [
    "#show the number of songs for each author\n",
    "a=most_song(dizionario)\n",
    "a"
   ]
  },
  {
   "cell_type": "code",
   "execution_count": null,
   "metadata": {
    "scrolled": true
   },
   "outputs": [],
   "source": [
    "# Find who wrote more songs\n",
    "max(a,key=itemgetter(1))"
   ]
  },
  {
   "cell_type": "code",
   "execution_count": null,
   "metadata": {},
   "outputs": [],
   "source": [
    "# find the mean\n",
    "media=most_song_mean(dizionario)\n",
    "media"
   ]
  },
  {
   "cell_type": "code",
   "execution_count": null,
   "metadata": {
    "scrolled": false
   },
   "outputs": [],
   "source": [
    "#print histogram\n",
    "df = pd.DataFrame(a, columns=['Artist Name', 'frequency'])\n",
    "df.plot(kind='bar', x='Artist Name')\n",
    "plt.show()"
   ]
  },
  {
   "cell_type": "code",
   "execution_count": null,
   "metadata": {
    "scrolled": true
   },
   "outputs": [],
   "source": [
    "#print histogram every 45 authors (and add the mean at first position)\n",
    "new = [media,*a]\n",
    "composite_list = [new[x:x+45] for x in range(0, len(new),45)]\n",
    "for i in composite_list:\n",
    "    df = pd.DataFrame(i, columns=['Artist Name', 'frequency'])\n",
    "    df.plot(kind='bar', x='Artist Name')\n",
    "    plt.show()"
   ]
  },
  {
   "cell_type": "code",
   "execution_count": null,
   "metadata": {
    "scrolled": true
   },
   "outputs": [],
   "source": [
    "#repeat with an ordered list (by number of songs)\n",
    "\n",
    "lista_ordinata=sorted(a,key=lambda x: x[1], reverse=True)\n",
    "df = pd.DataFrame(lista_ordinata, columns=['Artist Name', 'frequency'])\n",
    "df.plot(kind='bar', x='Artist Name')\n",
    "plt.show()\n",
    "\n",
    "new_ord = [media,*lista_ordinata]\n",
    "composite_list = [new_ord[x:x+45] for x in range(0, len(new_ord),45)]\n",
    "for i in composite_list:\n",
    "    df = pd.DataFrame(i, columns=['Artist Name', 'frequency'])\n",
    "    df.plot(kind='bar', x='Artist Name')\n",
    "    plt.show()"
   ]
  },
  {
   "cell_type": "code",
   "execution_count": null,
   "metadata": {
    "scrolled": true
   },
   "outputs": [],
   "source": [
    "#repeat with an ordered list (by artists name)\n",
    "\n",
    "lista_ordinata=sorted(a,key=lambda x: x[0])\n",
    "df = pd.DataFrame(lista_ordinata, columns=['Artist Name', 'frequency'])\n",
    "df.plot(kind='bar', x='Artist Name')\n",
    "plt.show()\n",
    "\n",
    "new_ord = [media,*lista_ordinata]\n",
    "composite_list = [new_ord[x:x+45] for x in range(0, len(new_ord),45)]\n",
    "for i in composite_list:\n",
    "    df = pd.DataFrame(i, columns=['Artist Name', 'frequency'])\n",
    "    df.plot(kind='bar', x='Artist Name')\n",
    "    plt.show()\n"
   ]
  },
  {
   "cell_type": "code",
   "execution_count": null,
   "metadata": {
    "collapsed": true
   },
   "outputs": [],
   "source": [
    "# the first 2 \"Author (Various Artist and Soundtracks)\" ar not properly author so we can delete \"they\" --> other methods\n",
    "lista_ordinata=sorted(a,key=lambda x: x[1], reverse=True)\n",
    "rimossa=lista_ordinata[2:]"
   ]
  },
  {
   "cell_type": "code",
   "execution_count": null,
   "metadata": {},
   "outputs": [],
   "source": [
    "# Find again who wrote more songs\n",
    "rimossa[0]"
   ]
  },
  {
   "cell_type": "code",
   "execution_count": null,
   "metadata": {},
   "outputs": [],
   "source": [
    "#and also the first 10\n",
    "rimossa[0:10]"
   ]
  },
  {
   "cell_type": "code",
   "execution_count": null,
   "metadata": {},
   "outputs": [],
   "source": [
    "#and also the first 25\n",
    "rimossa[0:25]"
   ]
  },
  {
   "cell_type": "markdown",
   "metadata": {},
   "source": [
    "# second"
   ]
  },
  {
   "cell_type": "code",
   "execution_count": null,
   "metadata": {},
   "outputs": [],
   "source": [
    "#write a new txt files with songs without stopwords\n",
    "with open('outputFile.txt','w',encoding=\"utf8\") as outFile:\n",
    "    for line in solo_testi:\n",
    "        print(\" \".join([word for word in line.lower().translate(str.maketrans('', '', string.punctuation)).split() \n",
    "            if len(word) >=4 and word not in stopwords.words('english')]), file=outFile)"
   ]
  },
  {
   "cell_type": "code",
   "execution_count": null,
   "metadata": {},
   "outputs": [],
   "source": [
    "#read the file and found the most common words\n",
    "with open('outputFile.txt',encoding=\"utf8\") as f:\n",
    "    passage = f.read()\n",
    "\n",
    "words = re.findall(r'\\w+', passage)\n",
    "aa=Counter(words).most_common(20)\n",
    "print(aa)"
   ]
  },
  {
   "cell_type": "code",
   "execution_count": null,
   "metadata": {
    "collapsed": true
   },
   "outputs": [],
   "source": []
  },
  {
   "cell_type": "code",
   "execution_count": null,
   "metadata": {
    "collapsed": true
   },
   "outputs": [],
   "source": []
  },
  {
   "cell_type": "code",
   "execution_count": null,
   "metadata": {
    "collapsed": true
   },
   "outputs": [],
   "source": []
  },
  {
   "cell_type": "markdown",
   "metadata": {
    "collapsed": true
   },
   "source": [
    "# for the most common artist name"
   ]
  },
  {
   "cell_type": "code",
   "execution_count": null,
   "metadata": {
    "collapsed": true
   },
   "outputs": [],
   "source": [
    "#create a nested list with name\n",
    "wo=[]\n",
    "for i in nomi_artisti:\n",
    "    words = re.findall(r'\\w+', i)\n",
    "    wo.append(words)"
   ]
  },
  {
   "cell_type": "code",
   "execution_count": null,
   "metadata": {},
   "outputs": [],
   "source": [
    "wo"
   ]
  },
  {
   "cell_type": "code",
   "execution_count": null,
   "metadata": {
    "collapsed": true
   },
   "outputs": [],
   "source": [
    "#suppose that the name of the author is always the first word \n",
    "lst = [item[0] for item in wo]"
   ]
  },
  {
   "cell_type": "code",
   "execution_count": null,
   "metadata": {
    "scrolled": true
   },
   "outputs": [],
   "source": [
    "lst"
   ]
  },
  {
   "cell_type": "code",
   "execution_count": null,
   "metadata": {},
   "outputs": [],
   "source": [
    "lst2=Counter(lst).most_common(10)\n",
    "print(lst2)"
   ]
  },
  {
   "cell_type": "code",
   "execution_count": null,
   "metadata": {},
   "outputs": [],
   "source": [
    "usare=[x[0] for x in lst2]\n",
    "usare"
   ]
  },
  {
   "cell_type": "code",
   "execution_count": null,
   "metadata": {},
   "outputs": [],
   "source": [
    "#remember the top 25 more productive authors\n",
    "aba=rimossa[0:25]\n",
    "aba"
   ]
  },
  {
   "cell_type": "code",
   "execution_count": null,
   "metadata": {
    "collapsed": true
   },
   "outputs": [],
   "source": [
    "#select name and surname\n",
    "woo=[]\n",
    "for i in [x[0] for x in aba]:\n",
    "    words = (re.findall(r'\\w+', i))\n",
    "    woo.append(words)"
   ]
  },
  {
   "cell_type": "code",
   "execution_count": null,
   "metadata": {
    "collapsed": true
   },
   "outputs": [],
   "source": [
    "#create the frequences\n",
    "prova=[x[1] for x in aba]"
   ]
  },
  {
   "cell_type": "code",
   "execution_count": null,
   "metadata": {
    "collapsed": true
   },
   "outputs": [],
   "source": [
    "#concatenate\n",
    "vedere=[x for x in zip(woo, prova)]"
   ]
  },
  {
   "cell_type": "code",
   "execution_count": null,
   "metadata": {},
   "outputs": [],
   "source": [
    "#delete Various and Soundtracks from the most popular\n",
    "usare.remove('Soundtracks')\n",
    "usare.remove('Various')\n",
    "usare"
   ]
  },
  {
   "cell_type": "code",
   "execution_count": null,
   "metadata": {},
   "outputs": [],
   "source": [
    "#find if there are 1 or more most common artist name in the top 25 most productive author\n",
    "for i in usare:\n",
    "    print([item for item in vedere if item[0][0] == i])"
   ]
  },
  {
   "cell_type": "code",
   "execution_count": null,
   "metadata": {
    "collapsed": true
   },
   "outputs": [],
   "source": []
  },
  {
   "cell_type": "code",
   "execution_count": null,
   "metadata": {
    "collapsed": true
   },
   "outputs": [],
   "source": []
  },
  {
   "cell_type": "code",
   "execution_count": null,
   "metadata": {
    "collapsed": true
   },
   "outputs": [],
   "source": []
  },
  {
   "cell_type": "code",
   "execution_count": null,
   "metadata": {
    "collapsed": true
   },
   "outputs": [],
   "source": []
  },
  {
   "cell_type": "code",
   "execution_count": null,
   "metadata": {
    "collapsed": true
   },
   "outputs": [],
   "source": []
  },
  {
   "cell_type": "markdown",
   "metadata": {
    "collapsed": true
   },
   "source": [
    "# histogram song lengths"
   ]
  },
  {
   "cell_type": "code",
   "execution_count": null,
   "metadata": {
    "collapsed": true
   },
   "outputs": [],
   "source": [
    "#found just the title (check if we already have)\n",
    "titolo=[]\n",
    "for i in testi_aperto:\n",
    "    titolo.append(i)"
   ]
  },
  {
   "cell_type": "code",
   "execution_count": null,
   "metadata": {
    "collapsed": true
   },
   "outputs": [],
   "source": [
    "#count number of words in each songs\n",
    "num_words = [len(sentence.split()) for sentence in [value for value in testi_aperto.values()]]"
   ]
  },
  {
   "cell_type": "code",
   "execution_count": null,
   "metadata": {},
   "outputs": [],
   "source": [
    "#concatenate\n",
    "unitaa=[x for x in zip(titolo, num_words)]\n",
    "unitaa"
   ]
  },
  {
   "cell_type": "code",
   "execution_count": null,
   "metadata": {
    "scrolled": true
   },
   "outputs": [],
   "source": [
    "#plot histogram\n",
    "composite_list = [unitaa[x:x+45] for x in range(0, len(unitaa),45)]\n",
    "for i in composite_list:\n",
    "    df = pd.DataFrame(i, columns=['Artist Name', 'frequency'])\n",
    "    df.plot(kind='bar', x='Artist Name')\n",
    "    plt.show()"
   ]
  },
  {
   "cell_type": "code",
   "execution_count": null,
   "metadata": {
    "collapsed": true
   },
   "outputs": [],
   "source": []
  },
  {
   "cell_type": "code",
   "execution_count": null,
   "metadata": {
    "collapsed": true
   },
   "outputs": [],
   "source": []
  },
  {
   "cell_type": "code",
   "execution_count": null,
   "metadata": {
    "collapsed": true
   },
   "outputs": [],
   "source": []
  }
 ],
 "metadata": {
  "kernelspec": {
   "display_name": "Python 3",
   "language": "python",
   "name": "python3"
  },
  "language_info": {
   "codemirror_mode": {
    "name": "ipython",
    "version": 3
   },
   "file_extension": ".py",
   "mimetype": "text/x-python",
   "name": "python",
   "nbconvert_exporter": "python",
   "pygments_lexer": "ipython3",
   "version": "3.6.1"
  }
 },
 "nbformat": 4,
 "nbformat_minor": 2
}
